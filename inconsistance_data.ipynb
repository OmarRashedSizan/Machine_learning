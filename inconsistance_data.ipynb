{
 "cells": [
  {
   "cell_type": "code",
   "execution_count": 10,
   "id": "83f97abe",
   "metadata": {},
   "outputs": [
    {
     "name": "stdout",
     "output_type": "stream",
     "text": [
      "তৈরি করা ডামি ডেটা (ডিকশনারি ফরম্যাটে):\n",
      "'order_id': [None, 'ORD1001', 'ORD1002', 'ORD1003', 'ORD1004'] ... (মোট 102টি এন্ট্রি)\n",
      "'product_name': ['ওয়েবক্যাম', 'ওয়েবক্যাম', 'রাউটার', 'রাউটার', 'মাউস'] ... (মোট 102টি এন্ট্রি)\n",
      "'quantity': [3, 2, '10', 6, 1] ... (মোট 102টি এন্ট্রি)\n",
      "'price': [836.57, 346.87, 415.62, 271.05, 498.61] ... (মোট 102টি এন্ট্রি)\n",
      "'order_date': ['2024-11-16', '2024-09-08', '2024-03-03', '2023-09-02', '2023-06-18'] ... (মোট 102টি এন্ট্রি)\n",
      "'customer_email': ['customer0@example.com', 'customer1@example.com', 'customer2example.com', 'customer3@example.com', 'customer4@example.com'] ... (মোট 102টি এন্ট্রি)\n",
      "'city': ['DHaka', 'dhaka', 'DHaka', 'Dhaka', 'rangpur'] ... (মোট 102টি এন্ট্রি)\n",
      "\n",
      "মোট কলামের সংখ্যা: 7\n",
      "প্রতিটি কলামে রেকর্ডের সংখ্যা (একটি কলামের দৈর্ঘ্য): 102\n"
     ]
    }
   ],
   "source": [
    "import random\n",
    "from datetime import datetime, timedelta\n",
    "import pandas as pd\n",
    "\n",
    "def generate_dummy_data_dict_format(num_records=50):\n",
    "    \"\"\"\n",
    "    ডেটা ইনকনসিস্টেন্সি অনুশীলনের জন্য ডিকশনারি ফরম্যাটে ডামি ডেটা তৈরি করে।\n",
    "\n",
    "    এখানে ডেটা একটি ডিকশনারি আকারে থাকবে যেখানে কলামের নামগুলো key\n",
    "    এবং তাদের সংশ্লিষ্ট ডেটাগুলো list আকারে value হবে।\n",
    "\n",
    "    Args:\n",
    "        num_records (int): তৈরি করা রেকর্ডের সংখ্যা।\n",
    "\n",
    "    Returns:\n",
    "        dict: কলামের নাম (str) key এবং ডেটার লিস্ট (list) value সহ একটি ডিকশনারি।\n",
    "    \"\"\"\n",
    "    data = {\n",
    "        \"order_id\": [],\n",
    "        \"product_name\": [],\n",
    "        \"quantity\": [],\n",
    "        \"price\": [],\n",
    "        \"order_date\": [],\n",
    "        \"customer_email\": [],\n",
    "        \"city\": []\n",
    "    }\n",
    "\n",
    "    product_names = [\"ল্যাপটপ\", \"স্মার্টফোন\", \"কীবোর্ড\", \"মাউস\", \"মনিটর\", \"প্রিন্টার\", \"হার্ড ড্রাইভ\", \"এসএসডি\", \"রাউটার\", \"ওয়েবক্যাম\"]\n",
    "    cities = [\"dhaka\", \"Dhaka\", \"DHaka\", \"Rajshahi\", \"rajshahi\", \"RajSsahi\", \"rangpur\", \"Rangpur\", \"Chittagong\", \"chittagong\", \"Sylhet\", \"sylhet\"]\n",
    "\n",
    "    for i in range(num_records):\n",
    "        # --- order_id ---\n",
    "        if i % 7 == 0 and i > 0: # প্রায়শই সদৃশ আইডি\n",
    "            data[\"order_id\"].append(data[\"order_id\"][i-1])\n",
    "        elif i % 10 == 0: # কিছু অনুপস্থিত আইডি\n",
    "            data[\"order_id\"].append(None)\n",
    "        else:\n",
    "            data[\"order_id\"].append(f\"ORD{1000 + i:04d}\")\n",
    "\n",
    "        # --- product_name ---\n",
    "        product = random.choice(product_names)\n",
    "        if random.random() < 0.15: # 15% সুযোগ বানান ভুল বা কেস অসঙ্গতি\n",
    "            if random.random() < 0.5:\n",
    "                data[\"product_name\"].append(product.upper()) # আপারকেস\n",
    "            else:\n",
    "                data[\"product_name\"].append(product[:-1] + random.choice(\"xyz\") if len(product) > 2 else product) # বানান ভুল\n",
    "        elif random.random() < 0.05: # 5% সুযোগ অনুপস্থিত\n",
    "            data[\"product_name\"].append(\"\")\n",
    "        else:\n",
    "            data[\"product_name\"].append(product)\n",
    "\n",
    "        # --- quantity ---\n",
    "        quantity = random.randint(1, 10)\n",
    "        if random.random() < 0.1: # 10% সুযোগ ভুল টাইপ বা সীমার বাইরে\n",
    "            if random.random() < 0.5:\n",
    "                data[\"quantity\"].append(str(quantity)) # স্ট্রিং হিসাবে পরিমাণ\n",
    "            else:\n",
    "                data[\"quantity\"].append(-random.randint(1, 5)) # নেগেটিভ পরিমাণ\n",
    "        else:\n",
    "            data[\"quantity\"].append(quantity)\n",
    "\n",
    "        # --- price ---\n",
    "        price = round(random.uniform(50.0, 1000.0), 2)\n",
    "        if random.random() < 0.08: # 8% সুযোগ ভুল টাইপ বা অনুপস্থিত\n",
    "            if random.random() < 0.5:\n",
    "                data[\"price\"].append(\"N/A\") # স্ট্রিং হিসাবে মূল্য\n",
    "            else:\n",
    "                data[\"price\"].append(None)\n",
    "        else:\n",
    "            data[\"price\"].append(price)\n",
    "\n",
    "        # --- order_date ---\n",
    "        start_date = datetime(2023, 1, 1)\n",
    "        end_date = datetime(2024, 12, 31)\n",
    "        random_date = start_date + timedelta(days=random.randint(0, (end_date - start_date).days))\n",
    "\n",
    "        inconsistency_type = random.random()\n",
    "\n",
    "        if inconsistency_type < 0.15: # 15% সুযোগ: ভুল ফর্ম্যাট বা অবৈধ তারিখ\n",
    "            if random.random() < 0.5:\n",
    "                data[\"order_date\"].append(random_date.strftime(\"%d/%m/%Y\")) # DD/MM/YYYY\n",
    "            else:\n",
    "                data[\"order_date\"].append(\"2023-13-40\") # অবৈধ তারিখ\n",
    "        elif inconsistency_type < 0.20: # 5% সুযোগ: ভবিষ্যৎ তারিখ\n",
    "            future_date = datetime.now() + timedelta(days=random.randint(1, 365))\n",
    "            data[\"order_date\"].append(future_date.strftime(\"%Y-%m-%d\"))\n",
    "        elif inconsistency_type < 0.25: # 5% সুযোগ: অনুপস্থিত\n",
    "            data[\"order_date\"].append(None)\n",
    "        else:\n",
    "            data[\"order_date\"].append(random_date.strftime(\"%Y-%m-%d\")) # YYYY-MM-DD (সাধারণ ফর্ম্যাট)\n",
    "\n",
    "        # --- customer_email ---\n",
    "        customer_email = f\"customer{i}@example.com\"\n",
    "        if random.random() < 0.1: # 10% সুযোগ ভুল ফর্ম্যাট বা অনুপস্থিত\n",
    "            if random.random() < 0.5:\n",
    "                data[\"customer_email\"].append(f\"customer{i}example.com\") # @ অনুপস্থিত\n",
    "            else:\n",
    "                data[\"customer_email\"].append(None)\n",
    "        else:\n",
    "            data[\"customer_email\"].append(customer_email)\n",
    "\n",
    "        # --- city ---\n",
    "        city = random.choice(cities)\n",
    "        if random.random() < 0.1: # 10% সুযোগ বানান ভুল বা কেস অসঙ্গতি\n",
    "            if random.random() < 0.5:\n",
    "                data[\"city\"].append(city.lower()) # লোয়ারকেস\n",
    "            else:\n",
    "                data[\"city\"].append(city + \" \") # অতিরিক্ত স্পেস\n",
    "        else:\n",
    "            data[\"city\"].append(city)\n",
    "\n",
    "    # কিছু সম্পূর্ণ সদৃশ রেকর্ড যোগ করুন (যদি num_records যথেষ্ট হয়)\n",
    "    if num_records > 5:\n",
    "        # একটি র্যান্ডম রেকর্ড বেছে নিন এবং তার সব কলামের ডেটা ডুপ্লিকেট করুন\n",
    "        idx_to_duplicate = random.randint(0, num_records - 1)\n",
    "        for col in data.keys():\n",
    "            data[col].append(data[col][idx_to_duplicate])\n",
    "        \n",
    "        # আরেকটি ডুপ্লিকেট রেকর্ড\n",
    "        idx_to_duplicate = random.randint(0, num_records - 1)\n",
    "        for col in data.keys():\n",
    "            data[col].append(data[col][idx_to_duplicate])\n",
    "\n",
    "\n",
    "    return data\n",
    "\n",
    "# ডামি ডেটা তৈরি করুন (যেমন 100টি রেকর্ড)\n",
    "dummy_data_dict = generate_dummy_data_dict_format(num_records=100)\n",
    "\n",
    "# ডেটার প্রথম কয়েকটি এন্ট্রি প্রিন্ট করুন (উদাহরণস্বরূপ)\n",
    "print(\"তৈরি করা ডামি ডেটা (ডিকশনারি ফরম্যাটে):\")\n",
    "# প্রতিটি কলামের প্রথম 5টি মান দেখান\n",
    "for col, values in dummy_data_dict.items():\n",
    "    print(f\"'{col}': {values[:5]} ... (মোট {len(values)}টি এন্ট্রি)\")\n",
    "\n",
    "print(f\"\\nমোট কলামের সংখ্যা: {len(dummy_data_dict)}\")\n",
    "print(f\"প্রতিটি কলামে রেকর্ডের সংখ্যা (একটি কলামের দৈর্ঘ্য): {len(dummy_data_dict['order_id'])}\")"
   ]
  },
  {
   "cell_type": "code",
   "execution_count": 11,
   "id": "3c7232f1",
   "metadata": {},
   "outputs": [],
   "source": [
    "df=pd.DataFrame(dummy_data_dict)    "
   ]
  },
  {
   "cell_type": "code",
   "execution_count": 12,
   "id": "46fb2bbf",
   "metadata": {},
   "outputs": [
    {
     "data": {
      "application/vnd.microsoft.datawrangler.viewer.v0+json": {
       "columns": [
        {
         "name": "index",
         "rawType": "int64",
         "type": "integer"
        },
        {
         "name": "order_id",
         "rawType": "object",
         "type": "unknown"
        },
        {
         "name": "product_name",
         "rawType": "object",
         "type": "string"
        },
        {
         "name": "quantity",
         "rawType": "object",
         "type": "unknown"
        },
        {
         "name": "price",
         "rawType": "object",
         "type": "unknown"
        },
        {
         "name": "order_date",
         "rawType": "object",
         "type": "string"
        },
        {
         "name": "customer_email",
         "rawType": "object",
         "type": "string"
        },
        {
         "name": "city",
         "rawType": "object",
         "type": "string"
        }
       ],
       "ref": "2c3a74f2-e3d7-469a-abbb-98a5b5a6a15c",
       "rows": [
        [
         "0",
         null,
         "ওয়েবক্যাম",
         "3",
         "836.57",
         "2024-11-16",
         "customer0@example.com",
         "DHaka"
        ],
        [
         "1",
         "ORD1001",
         "ওয়েবক্যাম",
         "2",
         "346.87",
         "2024-09-08",
         "customer1@example.com",
         "dhaka"
        ],
        [
         "2",
         "ORD1002",
         "রাউটার",
         "10",
         "415.62",
         "2024-03-03",
         "customer2example.com",
         "DHaka"
        ],
        [
         "3",
         "ORD1003",
         "রাউটার",
         "6",
         "271.05",
         "2023-09-02",
         "customer3@example.com",
         "Dhaka"
        ],
        [
         "4",
         "ORD1004",
         "মাউস",
         "1",
         "498.61",
         "2023-06-18",
         "customer4@example.com",
         "rangpur"
        ]
       ],
       "shape": {
        "columns": 7,
        "rows": 5
       }
      },
      "text/html": [
       "<div>\n",
       "<style scoped>\n",
       "    .dataframe tbody tr th:only-of-type {\n",
       "        vertical-align: middle;\n",
       "    }\n",
       "\n",
       "    .dataframe tbody tr th {\n",
       "        vertical-align: top;\n",
       "    }\n",
       "\n",
       "    .dataframe thead th {\n",
       "        text-align: right;\n",
       "    }\n",
       "</style>\n",
       "<table border=\"1\" class=\"dataframe\">\n",
       "  <thead>\n",
       "    <tr style=\"text-align: right;\">\n",
       "      <th></th>\n",
       "      <th>order_id</th>\n",
       "      <th>product_name</th>\n",
       "      <th>quantity</th>\n",
       "      <th>price</th>\n",
       "      <th>order_date</th>\n",
       "      <th>customer_email</th>\n",
       "      <th>city</th>\n",
       "    </tr>\n",
       "  </thead>\n",
       "  <tbody>\n",
       "    <tr>\n",
       "      <th>0</th>\n",
       "      <td>None</td>\n",
       "      <td>ওয়েবক্যাম</td>\n",
       "      <td>3</td>\n",
       "      <td>836.57</td>\n",
       "      <td>2024-11-16</td>\n",
       "      <td>customer0@example.com</td>\n",
       "      <td>DHaka</td>\n",
       "    </tr>\n",
       "    <tr>\n",
       "      <th>1</th>\n",
       "      <td>ORD1001</td>\n",
       "      <td>ওয়েবক্যাম</td>\n",
       "      <td>2</td>\n",
       "      <td>346.87</td>\n",
       "      <td>2024-09-08</td>\n",
       "      <td>customer1@example.com</td>\n",
       "      <td>dhaka</td>\n",
       "    </tr>\n",
       "    <tr>\n",
       "      <th>2</th>\n",
       "      <td>ORD1002</td>\n",
       "      <td>রাউটার</td>\n",
       "      <td>10</td>\n",
       "      <td>415.62</td>\n",
       "      <td>2024-03-03</td>\n",
       "      <td>customer2example.com</td>\n",
       "      <td>DHaka</td>\n",
       "    </tr>\n",
       "    <tr>\n",
       "      <th>3</th>\n",
       "      <td>ORD1003</td>\n",
       "      <td>রাউটার</td>\n",
       "      <td>6</td>\n",
       "      <td>271.05</td>\n",
       "      <td>2023-09-02</td>\n",
       "      <td>customer3@example.com</td>\n",
       "      <td>Dhaka</td>\n",
       "    </tr>\n",
       "    <tr>\n",
       "      <th>4</th>\n",
       "      <td>ORD1004</td>\n",
       "      <td>মাউস</td>\n",
       "      <td>1</td>\n",
       "      <td>498.61</td>\n",
       "      <td>2023-06-18</td>\n",
       "      <td>customer4@example.com</td>\n",
       "      <td>rangpur</td>\n",
       "    </tr>\n",
       "  </tbody>\n",
       "</table>\n",
       "</div>"
      ],
      "text/plain": [
       "  order_id product_name quantity   price  order_date         customer_email  \\\n",
       "0     None    ওয়েবক্যাম        3  836.57  2024-11-16  customer0@example.com   \n",
       "1  ORD1001    ওয়েবক্যাম        2  346.87  2024-09-08  customer1@example.com   \n",
       "2  ORD1002       রাউটার       10  415.62  2024-03-03   customer2example.com   \n",
       "3  ORD1003       রাউটার        6  271.05  2023-09-02  customer3@example.com   \n",
       "4  ORD1004         মাউস        1  498.61  2023-06-18  customer4@example.com   \n",
       "\n",
       "      city  \n",
       "0    DHaka  \n",
       "1    dhaka  \n",
       "2    DHaka  \n",
       "3    Dhaka  \n",
       "4  rangpur  "
      ]
     },
     "execution_count": 12,
     "metadata": {},
     "output_type": "execute_result"
    }
   ],
   "source": [
    "df.head()"
   ]
  },
  {
   "cell_type": "code",
   "execution_count": 13,
   "id": "c2ff01c5",
   "metadata": {},
   "outputs": [
    {
     "data": {
      "application/vnd.microsoft.datawrangler.viewer.v0+json": {
       "columns": [
        {
         "name": "index",
         "rawType": "int64",
         "type": "integer"
        },
        {
         "name": "city",
         "rawType": "object",
         "type": "string"
        }
       ],
       "ref": "ed8e8669-e5db-4f12-9b7f-5607edb80bde",
       "rows": [
        [
         "0",
         "DHaka"
        ],
        [
         "1",
         "dhaka"
        ],
        [
         "2",
         "DHaka"
        ],
        [
         "3",
         "Dhaka"
        ],
        [
         "4",
         "rangpur"
        ]
       ],
       "shape": {
        "columns": 1,
        "rows": 5
       }
      },
      "text/plain": [
       "0      DHaka\n",
       "1      dhaka\n",
       "2      DHaka\n",
       "3      Dhaka\n",
       "4    rangpur\n",
       "Name: city, dtype: object"
      ]
     },
     "execution_count": 13,
     "metadata": {},
     "output_type": "execute_result"
    }
   ],
   "source": [
    "df['city'].head()"
   ]
  },
  {
   "cell_type": "code",
   "execution_count": null,
   "id": "93d2c5c7",
   "metadata": {},
   "outputs": [],
   "source": [
    "df['city'] = df['city'].str.strip()  # অতিরিক্ত স্পেস সরান\n",
    "df['city']= df['city'].str.capitalize()  \n"
   ]
  },
  {
   "cell_type": "code",
   "execution_count": 17,
   "id": "b3c4c877",
   "metadata": {},
   "outputs": [
    {
     "data": {
      "application/vnd.microsoft.datawrangler.viewer.v0+json": {
       "columns": [
        {
         "name": "index",
         "rawType": "int64",
         "type": "integer"
        },
        {
         "name": "city",
         "rawType": "object",
         "type": "string"
        }
       ],
       "ref": "83f895ff-c252-484c-b193-576cf3c7a97b",
       "rows": [
        [
         "0",
         "Dhaka"
        ],
        [
         "1",
         "Dhaka"
        ],
        [
         "2",
         "Dhaka"
        ],
        [
         "3",
         "Dhaka"
        ],
        [
         "4",
         "Rangpur"
        ]
       ],
       "shape": {
        "columns": 1,
        "rows": 5
       }
      },
      "text/plain": [
       "0      Dhaka\n",
       "1      Dhaka\n",
       "2      Dhaka\n",
       "3      Dhaka\n",
       "4    Rangpur\n",
       "Name: city, dtype: object"
      ]
     },
     "execution_count": 17,
     "metadata": {},
     "output_type": "execute_result"
    }
   ],
   "source": [
    "df['city'].head()"
   ]
  },
  {
   "cell_type": "code",
   "execution_count": null,
   "id": "bd4ffd33",
   "metadata": {},
   "outputs": [],
   "source": []
  },
  {
   "cell_type": "code",
   "execution_count": null,
   "id": "13bbdd9d",
   "metadata": {},
   "outputs": [],
   "source": []
  },
  {
   "cell_type": "code",
   "execution_count": null,
   "id": "77a007ee",
   "metadata": {},
   "outputs": [],
   "source": []
  },
  {
   "cell_type": "code",
   "execution_count": 4,
   "id": "8b356849",
   "metadata": {},
   "outputs": [
    {
     "name": "stderr",
     "output_type": "stream",
     "text": [
      "C:\\Users\\SIZAN\\AppData\\Local\\Temp\\ipykernel_12852\\2990946044.py:1: UserWarning: Parsing dates in %d/%m/%Y format when dayfirst=False (the default) was specified. Pass `dayfirst=True` or specify a format to silence this warning.\n",
      "  df['order_date'] = pd.to_datetime(df['order_date'], errors='coerce')\n"
     ]
    }
   ],
   "source": [
    "df['order_date'] = pd.to_datetime(df['order_date'], errors='coerce')\n",
    "df['order_date'] = df['order_date'].dt.strftime('%Y-%m-%d')"
   ]
  },
  {
   "cell_type": "code",
   "execution_count": 7,
   "id": "d6df2ce7",
   "metadata": {},
   "outputs": [
    {
     "name": "stdout",
     "output_type": "stream",
     "text": [
      "আসল 'order_date' কলাম:\n",
      "0    14/09/2023\n",
      "1    2023-13-40\n",
      "2    2023-06-08\n",
      "3    2024-02-03\n",
      "4    2023-05-02\n",
      "5          None\n",
      "6    2025-01-01\n",
      "7     তারিখ নেই\n",
      "Name: order_date, dtype: object\n",
      "------------------------------\n",
      "\n",
      "pd.to_datetime এর পর 'order_date' কলাম:\n",
      "0   2023-09-14\n",
      "1          NaT\n",
      "2          NaT\n",
      "3          NaT\n",
      "4          NaT\n",
      "5          NaT\n",
      "6          NaT\n",
      "7          NaT\n",
      "Name: order_date, dtype: datetime64[ns]\n",
      "------------------------------\n",
      "\n",
      "চূড়ান্ত সামঞ্জস্যপূর্ণ 'order_date' কলাম (YYYY-MM-DD ফরম্যাটে):\n",
      "0    2023-09-14\n",
      "1           NaN\n",
      "2           NaN\n",
      "3           NaN\n",
      "4           NaN\n",
      "5           NaN\n",
      "6           NaN\n",
      "7           NaN\n",
      "Name: order_date, dtype: object\n"
     ]
    },
    {
     "name": "stderr",
     "output_type": "stream",
     "text": [
      "C:\\Users\\SIZAN\\AppData\\Local\\Temp\\ipykernel_12852\\1019404756.py:15: UserWarning: Parsing dates in %d/%m/%Y format when dayfirst=False (the default) was specified. Pass `dayfirst=True` or specify a format to silence this warning.\n",
      "  df['order_date'] = pd.to_datetime(df['order_date'], errors='coerce')\n"
     ]
    }
   ],
   "source": [
    "import pandas as pd\n",
    "\n",
    "# আপনার ইনকনসিস্টেন্ট তারিখের ডেটা (উদাহরণস্বরূপ)\n",
    "inconsistent_dates = ['14/09/2023', '2023-13-40', '2023-06-08', '2024-02-03', '2023-05-02', None, '2025-01-01', 'তারিখ নেই']\n",
    "\n",
    "# একটি Pandas Series তৈরি করা হলো অনুশীলনের জন্য\n",
    "df = pd.DataFrame({'order_date': inconsistent_dates})\n",
    "\n",
    "print(\"আসল 'order_date' কলাম:\")\n",
    "print(df['order_date'])\n",
    "print(\"-\" * 30)\n",
    "\n",
    "# ১. pd.to_datetime ব্যবহার করে তারিখ ডেটাটাইপ রূপান্তর\n",
    "# errors='coerce' ব্যবহার করলে, যদি কোনো তারিখ অবৈধ হয়, সেটি NaT হয়ে যাবে।\n",
    "df['order_date'] = pd.to_datetime(df['order_date'], errors='coerce')\n",
    "\n",
    "print(\"\\npd.to_datetime এর পর 'order_date' কলাম:\")\n",
    "print(df['order_date'])\n",
    "print(\"-\" * 30)\n",
    "\n",
    "# ২. dt.strftime ব্যবহার করে নির্দিষ্ট ফরম্যাটে আনা\n",
    "# NaT মানগুলো এক্ষেত্রে NaN বা None হিসাবে থাকবে, যা সাধারণত আপনার ডেটা ক্লিনিং এর জন্য ভালো।\n",
    "df['order_date'] = df['order_date'].dt.strftime('%Y-%m-%d')\n",
    "\n",
    "print(\"\\nচূড়ান্ত সামঞ্জস্যপূর্ণ 'order_date' কলাম (YYYY-MM-DD ফরম্যাটে):\")\n",
    "print(df['order_date'])"
   ]
  },
  {
   "cell_type": "code",
   "execution_count": 5,
   "id": "847197b3",
   "metadata": {},
   "outputs": [
    {
     "data": {
      "application/vnd.microsoft.datawrangler.viewer.v0+json": {
       "columns": [
        {
         "name": "index",
         "rawType": "int64",
         "type": "integer"
        },
        {
         "name": "order_date",
         "rawType": "object",
         "type": "unknown"
        }
       ],
       "ref": "811701d0-c5d0-4cd0-ac01-fcb1b2163056",
       "rows": [
        [
         "0",
         "2023-09-14"
        ],
        [
         "1",
         null
        ],
        [
         "2",
         null
        ],
        [
         "3",
         null
        ],
        [
         "4",
         null
        ]
       ],
       "shape": {
        "columns": 1,
        "rows": 5
       }
      },
      "text/plain": [
       "0    2023-09-14\n",
       "1           NaN\n",
       "2           NaN\n",
       "3           NaN\n",
       "4           NaN\n",
       "Name: order_date, dtype: object"
      ]
     },
     "execution_count": 5,
     "metadata": {},
     "output_type": "execute_result"
    }
   ],
   "source": [
    "df['order_date'].head()"
   ]
  },
  {
   "cell_type": "code",
   "execution_count": 6,
   "id": "3a8eda78",
   "metadata": {},
   "outputs": [
    {
     "data": {
      "application/vnd.microsoft.datawrangler.viewer.v0+json": {
       "columns": [
        {
         "name": "index",
         "rawType": "int64",
         "type": "integer"
        },
        {
         "name": "order_date",
         "rawType": "object",
         "type": "string"
        }
       ],
       "ref": "40a9ad4e-a072-43a0-9871-63cf2e4dd650",
       "rows": [
        [
         "0",
         "2023-09-14"
        ],
        [
         "1",
         "2023-01-01"
        ],
        [
         "2",
         "2023-01-01"
        ],
        [
         "3",
         "2023-01-01"
        ],
        [
         "4",
         "2023-01-01"
        ]
       ],
       "shape": {
        "columns": 1,
        "rows": 5
       }
      },
      "text/plain": [
       "0    2023-09-14\n",
       "1    2023-01-01\n",
       "2    2023-01-01\n",
       "3    2023-01-01\n",
       "4    2023-01-01\n",
       "Name: order_date, dtype: object"
      ]
     },
     "execution_count": 6,
     "metadata": {},
     "output_type": "execute_result"
    }
   ],
   "source": [
    "# impute fill the data and try another methon to complete the data \n",
    "df['order_date'] = df['order_date'].fillna('2023-01-01')\n",
    "df['order_date'].head()\n",
    "\n"
   ]
  },
  {
   "cell_type": "code",
   "execution_count": 8,
   "id": "b8c14bdb",
   "metadata": {},
   "outputs": [
    {
     "name": "stdout",
     "output_type": "stream",
     "text": [
      "--- শুরুর দিকের ডেটা (জটিল) ---\n",
      "            order_date\n",
      "0           14/09/2023\n",
      "1           2023-13-40\n",
      "2           2023-06-08\n",
      "3           2024-02-03\n",
      "4           05-02-2023\n",
      "5           2023/05/02\n",
      "6   September 14, 2023\n",
      "7          Feb 10 2022\n",
      "8        Dec. 25, 2021\n",
      "9                 None\n",
      "10           তারিখ নেই\n",
      "11          2025-01-01\n",
      "12          23/04/2024\n",
      "13          2024-04-23\n",
      "14         23-APR-2024\n",
      "\n",
      "--- রূপান্তরিত ডেটা (কাস্টম পার্সিং এর পর) ---\n",
      "    order_date\n",
      "0   2023-09-14\n",
      "1          NaN\n",
      "2   2023-06-08\n",
      "3   2024-02-03\n",
      "4   2023-02-05\n",
      "5   2023-05-02\n",
      "6   2023-09-14\n",
      "7   2022-02-10\n",
      "8   2021-12-25\n",
      "9          NaN\n",
      "10         NaN\n",
      "11  2025-01-01\n",
      "12  2024-04-23\n",
      "13  2024-04-23\n",
      "14  2024-04-23\n"
     ]
    }
   ],
   "source": [
    "import pandas as pd\n",
    "from datetime import datetime\n",
    "import numpy as np\n",
    "\n",
    "# আপনার ডামি ডেটা\n",
    "inconsistent_dates_complex = [\n",
    "    '14/09/2023',\n",
    "    '2023-13-40',\n",
    "    '2023-06-08',\n",
    "    '2024-02-03',\n",
    "    '05-02-2023',\n",
    "    '2023/05/02',\n",
    "    'September 14, 2023',\n",
    "    'Feb 10 2022',      # নতুন ফরম্যাট\n",
    "    'Dec. 25, 2021',    # আরও একটি নতুন ফরম্যাট\n",
    "    None,\n",
    "    'তারিখ নেই',\n",
    "    '2025-01-01',\n",
    "    '23/04/2024',\n",
    "    '2024-04-23',\n",
    "    '23-APR-2024'\n",
    "]\n",
    "\n",
    "df_complex = pd.DataFrame({'order_date': inconsistent_dates_complex})\n",
    "\n",
    "print(\"--- শুরুর দিকের ডেটা (জটিল) ---\")\n",
    "print(df_complex)\n",
    "\n",
    "def parse_flexible_date(date_str):\n",
    "    \"\"\"\n",
    "    বিভিন্ন সম্ভাব্য ফরম্যাটের তারিখ স্ট্রিং পার্স করার চেষ্টা করে।\n",
    "    সফল হলে datetime অবজেক্ট, না হলে NaT রিটার্ন করে।\n",
    "    \"\"\"\n",
    "    if pd.isna(date_str): # numpy.nan, None, pd.NaT ইত্যাদি হ্যান্ডেল করে\n",
    "        return pd.NaT\n",
    "    \n",
    "    # নিশ্চিত করুন যে এটি একটি স্ট্রিং\n",
    "    date_str = str(date_str).strip()\n",
    "    \n",
    "    # সম্ভাব্য ফরম্যাটগুলোর একটি তালিকা\n",
    "    formats = [\n",
    "        '%Y-%m-%d', '%d/%m/%Y', '%Y/%m/%d', '%d-%m-%Y',\n",
    "        '%B %d, %Y', '%b %d %Y', '%b. %d, %Y', # Month formats\n",
    "        '%d-%b-%Y', '%d-%b-%y'\n",
    "    ]\n",
    "    \n",
    "    for fmt in formats:\n",
    "        try:\n",
    "            return datetime.strptime(date_str, fmt)\n",
    "        except ValueError:\n",
    "            continue # এই ফরম্যাট না মিললে পরেরটি চেষ্টা করুন\n",
    "            \n",
    "    return pd.NaT # কোনো ফরম্যাট না মিললে NaT রিটার্ন করুন\n",
    "\n",
    "# apply() ফাংশন ব্যবহার করে প্রতিটি রো-তে কাস্টম ফাংশনটি চালান\n",
    "df_complex['order_date_parsed'] = df_complex['order_date'].apply(parse_flexible_date)\n",
    "\n",
    "# এখন এটি একটি datetime সিরিজ, এটিকে আবার পছন্দের স্ট্রিং ফরম্যাটে আনুন\n",
    "df_complex['order_date'] = df_complex['order_date_parsed'].dt.strftime('%Y-%m-%d')\n",
    "\n",
    "# অতিরিক্ত কলামটি সরিয়ে দিন\n",
    "del df_complex['order_date_parsed']\n",
    "\n",
    "print(\"\\n--- রূপান্তরিত ডেটা (কাস্টম পার্সিং এর পর) ---\")\n",
    "print(df_complex)"
   ]
  },
  {
   "cell_type": "code",
   "execution_count": 9,
   "id": "1e4dee94",
   "metadata": {},
   "outputs": [
    {
     "data": {
      "application/vnd.microsoft.datawrangler.viewer.v0+json": {
       "columns": [
        {
         "name": "index",
         "rawType": "int64",
         "type": "integer"
        },
        {
         "name": "order_date",
         "rawType": "object",
         "type": "unknown"
        }
       ],
       "ref": "92fe7510-1f7e-41bb-aded-96d2021adec0",
       "rows": [
        [
         "0",
         "2023-09-14"
        ],
        [
         "1",
         null
        ],
        [
         "2",
         "2023-06-08"
        ],
        [
         "3",
         "2024-02-03"
        ],
        [
         "4",
         "2023-02-05"
        ],
        [
         "5",
         "2023-05-02"
        ],
        [
         "6",
         "2023-09-14"
        ],
        [
         "7",
         "2022-02-10"
        ],
        [
         "8",
         "2021-12-25"
        ],
        [
         "9",
         null
        ],
        [
         "10",
         null
        ],
        [
         "11",
         "2025-01-01"
        ],
        [
         "12",
         "2024-04-23"
        ],
        [
         "13",
         "2024-04-23"
        ],
        [
         "14",
         "2024-04-23"
        ]
       ],
       "shape": {
        "columns": 1,
        "rows": 15
       }
      },
      "text/html": [
       "<div>\n",
       "<style scoped>\n",
       "    .dataframe tbody tr th:only-of-type {\n",
       "        vertical-align: middle;\n",
       "    }\n",
       "\n",
       "    .dataframe tbody tr th {\n",
       "        vertical-align: top;\n",
       "    }\n",
       "\n",
       "    .dataframe thead th {\n",
       "        text-align: right;\n",
       "    }\n",
       "</style>\n",
       "<table border=\"1\" class=\"dataframe\">\n",
       "  <thead>\n",
       "    <tr style=\"text-align: right;\">\n",
       "      <th></th>\n",
       "      <th>order_date</th>\n",
       "    </tr>\n",
       "  </thead>\n",
       "  <tbody>\n",
       "    <tr>\n",
       "      <th>0</th>\n",
       "      <td>2023-09-14</td>\n",
       "    </tr>\n",
       "    <tr>\n",
       "      <th>1</th>\n",
       "      <td>NaN</td>\n",
       "    </tr>\n",
       "    <tr>\n",
       "      <th>2</th>\n",
       "      <td>2023-06-08</td>\n",
       "    </tr>\n",
       "    <tr>\n",
       "      <th>3</th>\n",
       "      <td>2024-02-03</td>\n",
       "    </tr>\n",
       "    <tr>\n",
       "      <th>4</th>\n",
       "      <td>2023-02-05</td>\n",
       "    </tr>\n",
       "    <tr>\n",
       "      <th>5</th>\n",
       "      <td>2023-05-02</td>\n",
       "    </tr>\n",
       "    <tr>\n",
       "      <th>6</th>\n",
       "      <td>2023-09-14</td>\n",
       "    </tr>\n",
       "    <tr>\n",
       "      <th>7</th>\n",
       "      <td>2022-02-10</td>\n",
       "    </tr>\n",
       "    <tr>\n",
       "      <th>8</th>\n",
       "      <td>2021-12-25</td>\n",
       "    </tr>\n",
       "    <tr>\n",
       "      <th>9</th>\n",
       "      <td>NaN</td>\n",
       "    </tr>\n",
       "    <tr>\n",
       "      <th>10</th>\n",
       "      <td>NaN</td>\n",
       "    </tr>\n",
       "    <tr>\n",
       "      <th>11</th>\n",
       "      <td>2025-01-01</td>\n",
       "    </tr>\n",
       "    <tr>\n",
       "      <th>12</th>\n",
       "      <td>2024-04-23</td>\n",
       "    </tr>\n",
       "    <tr>\n",
       "      <th>13</th>\n",
       "      <td>2024-04-23</td>\n",
       "    </tr>\n",
       "    <tr>\n",
       "      <th>14</th>\n",
       "      <td>2024-04-23</td>\n",
       "    </tr>\n",
       "  </tbody>\n",
       "</table>\n",
       "</div>"
      ],
      "text/plain": [
       "    order_date\n",
       "0   2023-09-14\n",
       "1          NaN\n",
       "2   2023-06-08\n",
       "3   2024-02-03\n",
       "4   2023-02-05\n",
       "5   2023-05-02\n",
       "6   2023-09-14\n",
       "7   2022-02-10\n",
       "8   2021-12-25\n",
       "9          NaN\n",
       "10         NaN\n",
       "11  2025-01-01\n",
       "12  2024-04-23\n",
       "13  2024-04-23\n",
       "14  2024-04-23"
      ]
     },
     "execution_count": 9,
     "metadata": {},
     "output_type": "execute_result"
    }
   ],
   "source": [
    "df_complex"
   ]
  },
  {
   "cell_type": "code",
   "execution_count": null,
   "id": "f84e467e",
   "metadata": {},
   "outputs": [],
   "source": []
  }
 ],
 "metadata": {
  "kernelspec": {
   "display_name": "data_science_env",
   "language": "python",
   "name": "python3"
  },
  "language_info": {
   "codemirror_mode": {
    "name": "ipython",
    "version": 3
   },
   "file_extension": ".py",
   "mimetype": "text/x-python",
   "name": "python",
   "nbconvert_exporter": "python",
   "pygments_lexer": "ipython3",
   "version": "3.10.13"
  }
 },
 "nbformat": 4,
 "nbformat_minor": 5
}
