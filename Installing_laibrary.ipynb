{
 "cells": [
  {
   "cell_type": "markdown",
   "id": "c6983e73",
   "metadata": {},
   "source": [
    "### How to prepare your machine for Machine Learning.\n",
    "\n",
    "#### Step:\n",
    "1. create a new conda environment like `Python_ml`\n",
    "2. install the following packeges:\n",
    "  1. Python Conda install \n",
    "  2. python\n",
    "  3. pandas\n",
    "  4. numpy\n",
    "  5. matplotlib\n",
    "  6. seaborn\n",
    "  7. scipy\n",
    "  8. scikit-learn\n",
    "  9. plotly\n",
    "  10. jupyter\n",
    "  11. openpyxl\n",
    "   \n",
    "   \n",
    "pip install pandas numpy matplotlib seaborn scikit-learn jupyter openpyxl plotly \n",
    "\n"
   ]
  }
 ],
 "metadata": {
  "language_info": {
   "name": "python"
  }
 },
 "nbformat": 4,
 "nbformat_minor": 5
}
