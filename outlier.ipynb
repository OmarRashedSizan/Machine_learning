{
 "cells": [
  {
   "cell_type": "code",
   "execution_count": 1,
   "id": "c1e653f8",
   "metadata": {},
   "outputs": [],
   "source": [
    "import pandas as pd\n",
    "import numpy as np\n",
    "from scipy import stats\n",
    "import matplotlib.pyplot as plt\n",
    "import seaborn as sns"
   ]
  },
  {
   "cell_type": "code",
   "execution_count": 2,
   "id": "7de081a9",
   "metadata": {},
   "outputs": [],
   "source": [
    "np.random.seed(42)\n",
    "data = np.random.normal(loc=50, scale=10, size=100) # Normal distribution\n",
    "outliers = np.array([120, 130, -10, 110]) # Adding some clear outliers\n",
    "data = np.concatenate((data, outliers))"
   ]
  },
  {
   "cell_type": "code",
   "execution_count": 10,
   "id": "391b925f",
   "metadata": {},
   "outputs": [],
   "source": [
    "# Create a DataFrame\n",
    "df = pd.DataFrame({'Value': data})\n"
   ]
  },
  {
   "cell_type": "code",
   "execution_count": 12,
   "id": "41be6a8c",
   "metadata": {},
   "outputs": [
    {
     "data": {
      "application/vnd.microsoft.datawrangler.viewer.v0+json": {
       "columns": [
        {
         "name": "index",
         "rawType": "int64",
         "type": "integer"
        },
        {
         "name": "Value",
         "rawType": "float64",
         "type": "float"
        }
       ],
       "ref": "7b78b98e-27ef-4004-92fa-a27cef4eaf09",
       "rows": [
        [
         "0",
         "54.96714153011233"
        ],
        [
         "1",
         "48.61735698828815"
        ],
        [
         "2",
         "56.47688538100692"
        ],
        [
         "3",
         "65.23029856408026"
        ],
        [
         "4",
         "47.658466252766644"
        ]
       ],
       "shape": {
        "columns": 1,
        "rows": 5
       }
      },
      "text/html": [
       "<div>\n",
       "<style scoped>\n",
       "    .dataframe tbody tr th:only-of-type {\n",
       "        vertical-align: middle;\n",
       "    }\n",
       "\n",
       "    .dataframe tbody tr th {\n",
       "        vertical-align: top;\n",
       "    }\n",
       "\n",
       "    .dataframe thead th {\n",
       "        text-align: right;\n",
       "    }\n",
       "</style>\n",
       "<table border=\"1\" class=\"dataframe\">\n",
       "  <thead>\n",
       "    <tr style=\"text-align: right;\">\n",
       "      <th></th>\n",
       "      <th>Value</th>\n",
       "    </tr>\n",
       "  </thead>\n",
       "  <tbody>\n",
       "    <tr>\n",
       "      <th>0</th>\n",
       "      <td>54.967142</td>\n",
       "    </tr>\n",
       "    <tr>\n",
       "      <th>1</th>\n",
       "      <td>48.617357</td>\n",
       "    </tr>\n",
       "    <tr>\n",
       "      <th>2</th>\n",
       "      <td>56.476885</td>\n",
       "    </tr>\n",
       "    <tr>\n",
       "      <th>3</th>\n",
       "      <td>65.230299</td>\n",
       "    </tr>\n",
       "    <tr>\n",
       "      <th>4</th>\n",
       "      <td>47.658466</td>\n",
       "    </tr>\n",
       "  </tbody>\n",
       "</table>\n",
       "</div>"
      ],
      "text/plain": [
       "       Value\n",
       "0  54.967142\n",
       "1  48.617357\n",
       "2  56.476885\n",
       "3  65.230299\n",
       "4  47.658466"
      ]
     },
     "execution_count": 12,
     "metadata": {},
     "output_type": "execute_result"
    }
   ],
   "source": [
    "df.head()"
   ]
  },
  {
   "cell_type": "code",
   "execution_count": 13,
   "id": "af828ff5",
   "metadata": {},
   "outputs": [
    {
     "data": {
      "application/vnd.microsoft.datawrangler.viewer.v0+json": {
       "columns": [
        {
         "name": "index",
         "rawType": "object",
         "type": "string"
        },
        {
         "name": "Value",
         "rawType": "float64",
         "type": "float"
        }
       ],
       "ref": "b903c7d7-cb09-4575-9588-b4a0b65b7d68",
       "rows": [
        [
         "count",
         "104.0"
        ],
        [
         "mean",
         "50.44378348659526"
        ],
        [
         "std",
         "16.11625868592433"
        ],
        [
         "min",
         "-10.0"
        ],
        [
         "25%",
         "43.99094329503547"
        ],
        [
         "50%",
         "49.061707980157124"
        ],
        [
         "75%",
         "55.20590585731508"
        ],
        [
         "max",
         "130.0"
        ]
       ],
       "shape": {
        "columns": 1,
        "rows": 8
       }
      },
      "text/html": [
       "<div>\n",
       "<style scoped>\n",
       "    .dataframe tbody tr th:only-of-type {\n",
       "        vertical-align: middle;\n",
       "    }\n",
       "\n",
       "    .dataframe tbody tr th {\n",
       "        vertical-align: top;\n",
       "    }\n",
       "\n",
       "    .dataframe thead th {\n",
       "        text-align: right;\n",
       "    }\n",
       "</style>\n",
       "<table border=\"1\" class=\"dataframe\">\n",
       "  <thead>\n",
       "    <tr style=\"text-align: right;\">\n",
       "      <th></th>\n",
       "      <th>Value</th>\n",
       "    </tr>\n",
       "  </thead>\n",
       "  <tbody>\n",
       "    <tr>\n",
       "      <th>count</th>\n",
       "      <td>104.000000</td>\n",
       "    </tr>\n",
       "    <tr>\n",
       "      <th>mean</th>\n",
       "      <td>50.443783</td>\n",
       "    </tr>\n",
       "    <tr>\n",
       "      <th>std</th>\n",
       "      <td>16.116259</td>\n",
       "    </tr>\n",
       "    <tr>\n",
       "      <th>min</th>\n",
       "      <td>-10.000000</td>\n",
       "    </tr>\n",
       "    <tr>\n",
       "      <th>25%</th>\n",
       "      <td>43.990943</td>\n",
       "    </tr>\n",
       "    <tr>\n",
       "      <th>50%</th>\n",
       "      <td>49.061708</td>\n",
       "    </tr>\n",
       "    <tr>\n",
       "      <th>75%</th>\n",
       "      <td>55.205906</td>\n",
       "    </tr>\n",
       "    <tr>\n",
       "      <th>max</th>\n",
       "      <td>130.000000</td>\n",
       "    </tr>\n",
       "  </tbody>\n",
       "</table>\n",
       "</div>"
      ],
      "text/plain": [
       "            Value\n",
       "count  104.000000\n",
       "mean    50.443783\n",
       "std     16.116259\n",
       "min    -10.000000\n",
       "25%     43.990943\n",
       "50%     49.061708\n",
       "75%     55.205906\n",
       "max    130.000000"
      ]
     },
     "execution_count": 13,
     "metadata": {},
     "output_type": "execute_result"
    }
   ],
   "source": [
    "df.describe()"
   ]
  },
  {
   "cell_type": "code",
   "execution_count": 14,
   "id": "f4c894ba",
   "metadata": {},
   "outputs": [
    {
     "name": "stdout",
     "output_type": "stream",
     "text": [
      "\n",
      "--- Z-score Method ---\n"
     ]
    }
   ],
   "source": [
    "print(\"\\n--- Z-score Method ---\")\n",
    "df['Z_score'] = np.abs(stats.zscore(df['Value']))"
   ]
  },
  {
   "cell_type": "code",
   "execution_count": null,
   "id": "c60956d7",
   "metadata": {},
   "outputs": [
    {
     "data": {
      "text/plain": [
       "4.960300058031781"
      ]
     },
     "execution_count": 16,
     "metadata": {},
     "output_type": "execute_result"
    }
   ],
   "source": [
    "df['Z_score']"
   ]
  },
  {
   "cell_type": "code",
   "execution_count": 17,
   "id": "50ceb5fc",
   "metadata": {},
   "outputs": [
    {
     "name": "stdout",
     "output_type": "stream",
     "text": [
      "Outliers using Z-score (threshold > 3):\n",
      "     Value   Z_score\n",
      "100  120.0  4.336804\n",
      "101  130.0  4.960300\n",
      "102  -10.0  3.768647\n",
      "103  110.0  3.713308\n"
     ]
    }
   ],
   "source": [
    "z_score_threshold = 3 # Common threshold\n",
    "outliers_zscore = df[df['Z_score'] > z_score_threshold]\n",
    "print(f\"Outliers using Z-score (threshold > {z_score_threshold}):\")\n",
    "print(outliers_zscore)"
   ]
  },
  {
   "cell_type": "code",
   "execution_count": 18,
   "id": "5baa2d61",
   "metadata": {},
   "outputs": [
    {
     "name": "stdout",
     "output_type": "stream",
     "text": [
      "\n",
      "--- IQR Method ---\n"
     ]
    }
   ],
   "source": [
    "print(\"\\n--- IQR Method ---\")\n",
    "Q1 = df['Value'].quantile(0.25)\n",
    "Q3 = df['Value'].quantile(0.75)\n",
    "IQR = Q3 - Q1\n",
    "lower_bound = Q1 - 1.5 * IQR\n",
    "upper_bound = Q3 + 1.5 * IQR"
   ]
  },
  {
   "cell_type": "code",
   "execution_count": 19,
   "id": "caadb15b",
   "metadata": {},
   "outputs": [
    {
     "name": "stdout",
     "output_type": "stream",
     "text": [
      "Outliers using IQR (Lower: 27.17, Upper: 72.03):\n",
      "          Value   Z_score\n",
      "74    23.802549  1.661071\n",
      "100  120.000000  4.336804\n",
      "101  130.000000  4.960300\n",
      "102  -10.000000  3.768647\n",
      "103  110.000000  3.713308\n"
     ]
    }
   ],
   "source": [
    "outliers_iqr = df[(df['Value'] < lower_bound) | (df['Value'] > upper_bound)]\n",
    "print(f\"Outliers using IQR (Lower: {lower_bound:.2f}, Upper: {upper_bound:.2f}):\")\n",
    "print(outliers_iqr)"
   ]
  },
  {
   "cell_type": "code",
   "execution_count": 20,
   "id": "58f51a50",
   "metadata": {},
   "outputs": [
    {
     "data": {
      "image/png": "[encoded data removed]",
      "text/plain": [
       "<Figure size 1000x500 with 1 Axes>"
      ]
     },
     "metadata": {},
     "output_type": "display_data"
    }
   ],
   "source": [
    "plt.figure(figsize=(10, 5))\n",
    "sns.boxplot(x=df['Value'])\n",
    "plt.title('Box Plot of Value')\n",
    "plt.xlabel('Value')\n",
    "plt.show()"
   ]
  }
 ],
 "metadata": {
  "kernelspec": {
   "display_name": "data_science_env",
   "language": "python",
   "name": "python3"
  },
  "language_info": {
   "codemirror_mode": {
    "name": "ipython",
    "version": 3
   },
   "file_extension": ".py",
   "mimetype": "text/x-python",
   "name": "python",
   "nbconvert_exporter": "python",
   "pygments_lexer": "ipython3",
   "version": "3.10.13"
  }
 },
 "nbformat": 4,
 "nbformat_minor": 5
}
