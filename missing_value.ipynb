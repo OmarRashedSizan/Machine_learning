{
 "cells": [
  {
   "cell_type": "markdown",
   "id": "db3d87e3",
   "metadata": {},
   "source": [
    "### Dealing with Missing value"
   ]
  },
  {
   "cell_type": "code",
   "execution_count": 2,
   "id": "64437402",
   "metadata": {},
   "outputs": [],
   "source": [
    "# import library\n",
    "import pandas as pd\n",
    "import numpy as np\n",
    "import seaborn as sns\n",
    "import matplotlib.pyplot as plt\n",
    "from sklearn import preprocessing"
   ]
  },
  {
   "cell_type": "code",
   "execution_count": 3,
   "id": "36be1141",
   "metadata": {},
   "outputs": [],
   "source": [
    "df=sns.load_dataset('titanic')"
   ]
  },
  {
   "cell_type": "code",
   "execution_count": 4,
   "id": "22c1c68a",
   "metadata": {},
   "outputs": [
    {
     "data": {
      "application/vnd.microsoft.datawrangler.viewer.v0+json": {
       "columns": [
        {
         "name": "index",
         "rawType": "int64",
         "type": "integer"
        },
        {
         "name": "survived",
         "rawType": "int64",
         "type": "integer"
        },
        {
         "name": "pclass",
         "rawType": "int64",
         "type": "integer"
        },
        {
         "name": "sex",
         "rawType": "object",
         "type": "string"
        },
        {
         "name": "age",
         "rawType": "float64",
         "type": "float"
        },
        {
         "name": "sibsp",
         "rawType": "int64",
         "type": "integer"
        },
        {
         "name": "parch",
         "rawType": "int64",
         "type": "integer"
        },
        {
         "name": "fare",
         "rawType": "float64",
         "type": "float"
        },
        {
         "name": "embarked",
         "rawType": "object",
         "type": "string"
        },
        {
         "name": "class",
         "rawType": "category",
         "type": "unknown"
        },
        {
         "name": "who",
         "rawType": "object",
         "type": "string"
        },
        {
         "name": "adult_male",
         "rawType": "bool",
         "type": "boolean"
        },
        {
         "name": "deck",
         "rawType": "category",
         "type": "unknown"
        },
        {
         "name": "embark_town",
         "rawType": "object",
         "type": "string"
        },
        {
         "name": "alive",
         "rawType": "object",
         "type": "string"
        },
        {
         "name": "alone",
         "rawType": "bool",
         "type": "boolean"
        }
       ],
       "conversionMethod": "pd.DataFrame",
       "ref": "18ad832e-51b9-4e28-ba93-b299d215e260",
       "rows": [
        [
         "0",
         "0",
         "3",
         "male",
         "22.0",
         "1",
         "0",
         "7.25",
         "S",
         "Third",
         "man",
         "True",
         null,
         "Southampton",
         "no",
         "False"
        ],
        [
         "1",
         "1",
         "1",
         "female",
         "38.0",
         "1",
         "0",
         "71.2833",
         "C",
         "First",
         "woman",
         "False",
         "C",
         "Cherbourg",
         "yes",
         "False"
        ],
        [
         "2",
         "1",
         "3",
         "female",
         "26.0",
         "0",
         "0",
         "7.925",
         "S",
         "Third",
         "woman",
         "False",
         null,
         "Southampton",
         "yes",
         "True"
        ],
        [
         "3",
         "1",
         "1",
         "female",
         "35.0",
         "1",
         "0",
         "53.1",
         "S",
         "First",
         "woman",
         "False",
         "C",
         "Southampton",
         "yes",
         "False"
        ],
        [
         "4",
         "0",
         "3",
         "male",
         "35.0",
         "0",
         "0",
         "8.05",
         "S",
         "Third",
         "man",
         "True",
         null,
         "Southampton",
         "no",
         "True"
        ]
       ],
       "shape": {
        "columns": 15,
        "rows": 5
       }
      },
      "text/html": [
       "<div>\n",
       "<style scoped>\n",
       "    .dataframe tbody tr th:only-of-type {\n",
       "        vertical-align: middle;\n",
       "    }\n",
       "\n",
       "    .dataframe tbody tr th {\n",
       "        vertical-align: top;\n",
       "    }\n",
       "\n",
       "    .dataframe thead th {\n",
       "        text-align: right;\n",
       "    }\n",
       "</style>\n",
       "<table border=\"1\" class=\"dataframe\">\n",
       "  <thead>\n",
       "    <tr style=\"text-align: right;\">\n",
       "      <th></th>\n",
       "      <th>survived</th>\n",
       "      <th>pclass</th>\n",
       "      <th>sex</th>\n",
       "      <th>age</th>\n",
       "      <th>sibsp</th>\n",
       "      <th>parch</th>\n",
       "      <th>fare</th>\n",
       "      <th>embarked</th>\n",
       "      <th>class</th>\n",
       "      <th>who</th>\n",
       "      <th>adult_male</th>\n",
       "      <th>deck</th>\n",
       "      <th>embark_town</th>\n",
       "      <th>alive</th>\n",
       "      <th>alone</th>\n",
       "    </tr>\n",
       "  </thead>\n",
       "  <tbody>\n",
       "    <tr>\n",
       "      <th>0</th>\n",
       "      <td>0</td>\n",
       "      <td>3</td>\n",
       "      <td>male</td>\n",
       "      <td>22.0</td>\n",
       "      <td>1</td>\n",
       "      <td>0</td>\n",
       "      <td>7.2500</td>\n",
       "      <td>S</td>\n",
       "      <td>Third</td>\n",
       "      <td>man</td>\n",
       "      <td>True</td>\n",
       "      <td>NaN</td>\n",
       "      <td>Southampton</td>\n",
       "      <td>no</td>\n",
       "      <td>False</td>\n",
       "    </tr>\n",
       "    <tr>\n",
       "      <th>1</th>\n",
       "      <td>1</td>\n",
       "      <td>1</td>\n",
       "      <td>female</td>\n",
       "      <td>38.0</td>\n",
       "      <td>1</td>\n",
       "      <td>0</td>\n",
       "      <td>71.2833</td>\n",
       "      <td>C</td>\n",
       "      <td>First</td>\n",
       "      <td>woman</td>\n",
       "      <td>False</td>\n",
       "      <td>C</td>\n",
       "      <td>Cherbourg</td>\n",
       "      <td>yes</td>\n",
       "      <td>False</td>\n",
       "    </tr>\n",
       "    <tr>\n",
       "      <th>2</th>\n",
       "      <td>1</td>\n",
       "      <td>3</td>\n",
       "      <td>female</td>\n",
       "      <td>26.0</td>\n",
       "      <td>0</td>\n",
       "      <td>0</td>\n",
       "      <td>7.9250</td>\n",
       "      <td>S</td>\n",
       "      <td>Third</td>\n",
       "      <td>woman</td>\n",
       "      <td>False</td>\n",
       "      <td>NaN</td>\n",
       "      <td>Southampton</td>\n",
       "      <td>yes</td>\n",
       "      <td>True</td>\n",
       "    </tr>\n",
       "    <tr>\n",
       "      <th>3</th>\n",
       "      <td>1</td>\n",
       "      <td>1</td>\n",
       "      <td>female</td>\n",
       "      <td>35.0</td>\n",
       "      <td>1</td>\n",
       "      <td>0</td>\n",
       "      <td>53.1000</td>\n",
       "      <td>S</td>\n",
       "      <td>First</td>\n",
       "      <td>woman</td>\n",
       "      <td>False</td>\n",
       "      <td>C</td>\n",
       "      <td>Southampton</td>\n",
       "      <td>yes</td>\n",
       "      <td>False</td>\n",
       "    </tr>\n",
       "    <tr>\n",
       "      <th>4</th>\n",
       "      <td>0</td>\n",
       "      <td>3</td>\n",
       "      <td>male</td>\n",
       "      <td>35.0</td>\n",
       "      <td>0</td>\n",
       "      <td>0</td>\n",
       "      <td>8.0500</td>\n",
       "      <td>S</td>\n",
       "      <td>Third</td>\n",
       "      <td>man</td>\n",
       "      <td>True</td>\n",
       "      <td>NaN</td>\n",
       "      <td>Southampton</td>\n",
       "      <td>no</td>\n",
       "      <td>True</td>\n",
       "    </tr>\n",
       "  </tbody>\n",
       "</table>\n",
       "</div>"
      ],
      "text/plain": [
       "   survived  pclass     sex   age  sibsp  parch     fare embarked  class  \\\n",
       "0         0       3    male  22.0      1      0   7.2500        S  Third   \n",
       "1         1       1  female  38.0      1      0  71.2833        C  First   \n",
       "2         1       3  female  26.0      0      0   7.9250        S  Third   \n",
       "3         1       1  female  35.0      1      0  53.1000        S  First   \n",
       "4         0       3    male  35.0      0      0   8.0500        S  Third   \n",
       "\n",
       "     who  adult_male deck  embark_town alive  alone  \n",
       "0    man        True  NaN  Southampton    no  False  \n",
       "1  woman       False    C    Cherbourg   yes  False  \n",
       "2  woman       False  NaN  Southampton   yes   True  \n",
       "3  woman       False    C  Southampton   yes  False  \n",
       "4    man        True  NaN  Southampton    no   True  "
      ]
     },
     "execution_count": 4,
     "metadata": {},
     "output_type": "execute_result"
    }
   ],
   "source": [
    "df.head()"
   ]
  },
  {
   "cell_type": "code",
   "execution_count": 5,
   "id": "b39b1008",
   "metadata": {},
   "outputs": [
    {
     "data": {
      "image/png": "[encoded data removed]",
      "text/plain": [
       "<Figure size 500x500 with 1 Axes>"
      ]
     },
     "metadata": {},
     "output_type": "display_data"
    }
   ],
   "source": [
    "plt.figure(figsize=(5,5))\n",
    "sns.heatmap(df.isnull(),cbar=False)\n",
    "plt.show()"
   ]
  },
  {
   "cell_type": "code",
   "execution_count": 6,
   "id": "1b674871",
   "metadata": {},
   "outputs": [
    {
     "data": {
      "text/plain": [
       "deck           688\n",
       "age            177\n",
       "embarked         2\n",
       "embark_town      2\n",
       "survived         0\n",
       "pclass           0\n",
       "sex              0\n",
       "sibsp            0\n",
       "parch            0\n",
       "fare             0\n",
       "class            0\n",
       "who              0\n",
       "adult_male       0\n",
       "alive            0\n",
       "alone            0\n",
       "dtype: int64"
      ]
     },
     "execution_count": 6,
     "metadata": {},
     "output_type": "execute_result"
    }
   ],
   "source": [
    "df.isnull().sum().sort_values(ascending=False)"
   ]
  },
  {
   "cell_type": "code",
   "execution_count": 17,
   "id": "08a362f1",
   "metadata": {},
   "outputs": [
    {
     "data": {
      "text/plain": [
       "deck           77.22\n",
       "age            19.87\n",
       "embarked        0.22\n",
       "embark_town     0.22\n",
       "survived        0.00\n",
       "pclass          0.00\n",
       "sex             0.00\n",
       "sibsp           0.00\n",
       "parch           0.00\n",
       "fare            0.00\n",
       "class           0.00\n",
       "who             0.00\n",
       "adult_male      0.00\n",
       "alive           0.00\n",
       "alone           0.00\n",
       "dtype: float64"
      ]
     },
     "execution_count": 17,
     "metadata": {},
     "output_type": "execute_result"
    }
   ],
   "source": [
    "round(df.isnull().sum().sort_values(ascending=False)/len(df)*100,2)"
   ]
  },
  {
   "cell_type": "markdown",
   "id": "c02bb973",
   "metadata": {},
   "source": [
    "### Amader detaset e \"Deck\" column e 77% missing data. tai amra ai column ke drop korbo. Sadaronoto Machine learning e amra 20% beshi missig hole amra oi column ke drop kori."
   ]
  },
  {
   "cell_type": "code",
   "execution_count": 7,
   "id": "36e8ea22",
   "metadata": {},
   "outputs": [],
   "source": [
    "df.drop(columns='deck',inplace=True)"
   ]
  },
  {
   "cell_type": "code",
   "execution_count": 14,
   "id": "70823b6b",
   "metadata": {},
   "outputs": [
    {
     "data": {
      "text/plain": [
       "age            19.87\n",
       "embarked        0.22\n",
       "embark_town     0.22\n",
       "survived        0.00\n",
       "pclass          0.00\n",
       "sex             0.00\n",
       "sibsp           0.00\n",
       "parch           0.00\n",
       "fare            0.00\n",
       "class           0.00\n",
       "who             0.00\n",
       "adult_male      0.00\n",
       "alive           0.00\n",
       "alone           0.00\n",
       "dtype: float64"
      ]
     },
     "execution_count": 14,
     "metadata": {},
     "output_type": "execute_result"
    }
   ],
   "source": [
    "round((df.isnull().sum().sort_values(ascending=False)/len(df))*100,2)"
   ]
  },
  {
   "cell_type": "markdown",
   "id": "2fe9024d",
   "metadata": {},
   "source": [
    "### Akhon amara age column er missing value handel korbo. jehetu age column ar missing value less than 20%. tai amra ai column ke drop korbo na.(jodi amon column thke jekhane missing value 20%+ but amar analysis korar jonno ai column importen tokhono o amra drop korbo na)"
   ]
  },
  {
   "cell_type": "markdown",
   "id": "adf6dbca",
   "metadata": {},
   "source": [
    "#### Missing value handel korar jonno amra nicher step gulo follow korbo.\n",
    "\n",
    "1. Replace by mean(Numarical value)\n",
    "2. replace by meadin(Numarical value deta y outlier thakle(Beshir vag somoy))\n",
    "3. replace by mode(Catagorical value)\n",
    "\n",
    "Ai gulo charao aro onek technique ase jegulo amra ektu pore dekchi."
   ]
  },
  {
   "cell_type": "code",
   "execution_count": 17,
   "id": "124026a1",
   "metadata": {},
   "outputs": [
    {
     "data": {
      "text/plain": [
       "<Axes: >"
      ]
     },
     "execution_count": 17,
     "metadata": {},
     "output_type": "execute_result"
    },
    {
     "data": {
      "image/png": "[encoded data removed]",
      "text/plain": [
       "<Figure size 640x480 with 1 Axes>"
      ]
     },
     "metadata": {},
     "output_type": "display_data"
    }
   ],
   "source": [
    "sns.boxplot(data=df['age'])"
   ]
  },
  {
   "cell_type": "markdown",
   "id": "9e4739d6",
   "metadata": {},
   "source": [
    "Jehetu amar data y outlier ase tai ami mean diye replace na kore meadian dye replace korbo."
   ]
  },
  {
   "cell_type": "code",
   "execution_count": 21,
   "id": "1e028d0d",
   "metadata": {},
   "outputs": [],
   "source": [
    "\n",
    "df['age'] = df['age'].fillna(df['age'].median())"
   ]
  },
  {
   "cell_type": "code",
   "execution_count": 22,
   "id": "6f8460cc",
   "metadata": {},
   "outputs": [
    {
     "data": {
      "text/plain": [
       "embarked       0.22\n",
       "embark_town    0.22\n",
       "survived       0.00\n",
       "pclass         0.00\n",
       "sex            0.00\n",
       "age            0.00\n",
       "sibsp          0.00\n",
       "parch          0.00\n",
       "fare           0.00\n",
       "class          0.00\n",
       "who            0.00\n",
       "adult_male     0.00\n",
       "alive          0.00\n",
       "alone          0.00\n",
       "dtype: float64"
      ]
     },
     "execution_count": 22,
     "metadata": {},
     "output_type": "execute_result"
    }
   ],
   "source": [
    "round((df.isnull().sum().sort_values(ascending=False)/len(df))*100,2)"
   ]
  },
  {
   "cell_type": "markdown",
   "id": "cda9e44e",
   "metadata": {},
   "source": [
    "Akhon Amar `age` column e kono missing value nai. "
   ]
  },
  {
   "cell_type": "markdown",
   "id": "fd419d73",
   "metadata": {},
   "source": [
    "embarked   \n",
    "embark_town\n",
    "\n",
    "column 2 tay missing value ase akhon amra ai 2 column er missing value handel korbo. "
   ]
  },
  {
   "cell_type": "markdown",
   "id": "ba5d383a",
   "metadata": {},
   "source": [
    "Jehetu column 2 tai catgorical tai column 2 tokei mode diye replace korbo"
   ]
  },
  {
   "cell_type": "code",
   "execution_count": 24,
   "id": "2f4549ea",
   "metadata": {},
   "outputs": [],
   "source": [
    "df['embark_town']=df['embark_town'].fillna(df['embark_town'].mode()[0])"
   ]
  },
  {
   "cell_type": "code",
   "execution_count": 26,
   "id": "3b6a538c",
   "metadata": {},
   "outputs": [],
   "source": [
    "df['embarked']=df['embarked'].fillna(df['embarked'].mode()[0])"
   ]
  },
  {
   "cell_type": "code",
   "execution_count": 27,
   "id": "806b570b",
   "metadata": {},
   "outputs": [
    {
     "data": {
      "text/plain": [
       "survived       0.0\n",
       "pclass         0.0\n",
       "sex            0.0\n",
       "age            0.0\n",
       "sibsp          0.0\n",
       "parch          0.0\n",
       "fare           0.0\n",
       "embarked       0.0\n",
       "class          0.0\n",
       "who            0.0\n",
       "adult_male     0.0\n",
       "embark_town    0.0\n",
       "alive          0.0\n",
       "alone          0.0\n",
       "dtype: float64"
      ]
     },
     "execution_count": 27,
     "metadata": {},
     "output_type": "execute_result"
    }
   ],
   "source": [
    "round((df.isnull().sum().sort_values(ascending=False)/len(df))*100,2)"
   ]
  },
  {
   "cell_type": "code",
   "execution_count": null,
   "id": "d37f7c63",
   "metadata": {},
   "outputs": [],
   "source": []
  },
  {
   "cell_type": "markdown",
   "id": "44883d3f",
   "metadata": {},
   "source": [
    "Amader puro dataset e akhon kono missing value nei."
   ]
  },
  {
   "cell_type": "markdown",
   "id": "7367556f",
   "metadata": {},
   "source": [
    "Amare Sickit-learn use koreo data preprocessing (missing value handelling, outliear remove and so on... korte pari.)"
   ]
  },
  {
   "cell_type": "markdown",
   "id": "5f9589ff",
   "metadata": {},
   "source": [
    "Akhon Amra sickit learn use kore missing value handel korbo. Amra 2 ta technique dekbo.\n",
    "1. Univariate Imputation\n",
    "2. Multivariate Imputation"
   ]
  },
  {
   "cell_type": "markdown",
   "id": "2b6adfa9",
   "metadata": {},
   "source": [
    "১. ইউনিভেরিয়েট ইমপিউটেশন (Univariate Imputation)\n",
    "ইউনিভেরিয়েট ইমপিউটেশন হলো এমন একটি পদ্ধতি যেখানে একটি ভেরিয়েবলের (কলাম) মিসিং ভ্যালু পূরণ করার জন্য শুধুমাত্র সেই ভেরিয়েবলেরই বিদ্যমান ডেটা ব্যবহার করা হয়। এটি অন্য কোনো ভেরিয়েবলের সাথে সম্পর্ক বিবেচনা করে না।\n",
    "\n",
    "উদাহরণ:\n",
    "\n",
    "Mean Imputation (গড় দিয়ে পূরণ): মিসিং ভ্যালুগুলোকে সেই কলামের গড় মান দিয়ে পূরণ করা।\n",
    "Median Imputation (মধ্যমা দিয়ে পূরণ): মিসিং ভ্যালুগুলোকে সেই কলামের মধ্যমা মান দিয়ে পূরণ করা।\n",
    "Mode Imputation (মোড বা বহুল প্রচলিত মান দিয়ে পূরণ): ক্যাটাগরিক্যাল ডেটার ক্ষেত্রে মিসিং ভ্যালুগুলোকে সেই কলামের সর্বাধিক প্রচলিত মান দিয়ে পূরণ করা।\n",
    "Constant Imputation (স্থির মান দিয়ে পূরণ): সব মিসিং ভ্যালু একটি নির্দিষ্ট স্থির মান দিয়ে পূরণ করা।\n",
    "Forward Fill (ffill) / Backward Fill (bfill): টাইম সিরিজ ডেটার ক্ষেত্রে পূর্ববর্তী বা পরবর্তী উপলব্ধ মান দিয়ে পূরণ করা।\n",
    "\n",
    "\n",
    "সুবিধাসমূহ (Advantages):\n",
    "\n",
    "সহজ এবং দ্রুত: এটি বাস্তবায়ন করা খুবই সহজ এবং দ্রুত ডেটা পূরণ করতে পারে।\n",
    "কম্পিউটেশনালি সস্তা: এর জন্য খুব বেশি কম্পিউটেশনাল ক্ষমতার প্রয়োজন হয় না।\n",
    "ব্যাখ্যা করা সহজ: এই পদ্ধতির ফলাফল সহজে বোঝা যায়।\n",
    "\n",
    "\n",
    "অসুবিধাসমূহ (Disadvantages):\n",
    "\n",
    "ডেটার ভ্যারিয়েন্স কমিয়ে দেয়: Mean বা Median Imputation ডেটার ভ্যারিয়েন্স (variance) কমিয়ে দেয়, যা মডেলের পারফরম্যান্সে প্রভাব ফেলতে পারে।\n",
    "অন্যান্য ভেরিয়েবলের সাথে সম্পর্ক উপেক্ষা করে: এটি ডেটার অন্যান্য ভেরিয়েবলগুলোর মধ্যেকার সম্পর্ক বিবেচনা করে না, ফলে ডেটার আসল বিতরণে (distribution) বিকৃতি ঘটাতে পারে।\n",
    "আউটলায়ার (Outliers) তৈরি করতে পারে: কিছু ক্ষেত্রে, বিশেষ করে যদি মিসিং ডেটার পরিমাণ বেশি হয়, তাহলে এটি ডেটাসেটে কৃত্রিম আউটলায়ার তৈরি করতে পারে বা বিদ্যমান আউটলায়ারগুলোকে আরও প্রকট করতে পারে।\n",
    "অযথাযথ পূর্বাভাস: যেহেতু এটি ডেটার আন্তঃসম্পর্ককে উপেক্ষা করে, তাই এটি মডেলের পূর্বাভাসকে (predictions) প্রভাবিত করতে পারে এবং পক্ষপাতিত্ব (bias) তৈরি করতে পারে।"
   ]
  },
  {
   "cell_type": "markdown",
   "id": "f0164f68",
   "metadata": {},
   "source": [
    " মাল্টিভেরিয়েট ইমপিউটেশন (Multivariate Imputation)\n",
    "মাল্টিভেরিয়েট ইমপিউটেশন হলো এমন একটি পদ্ধতি যেখানে একটি ভেরিয়েবলের মিসিং ভ্যালু পূরণ করার জন্য অন্যান্য ভেরিয়েবলের সাথে বিদ্যমান সম্পর্ক ব্যবহার করা হয়। এটি একটি ভেরিয়েবলের মিসিং ডেটা অনুমান করার জন্য অন্যান্য ভেরিয়েবলের তথ্য ব্যবহার করে একটি মডেল তৈরি করে।\n",
    "\n",
    "উদাহরণ:\n",
    "\n",
    "K-Nearest Neighbors (KNN) Imputation: মিসিং ভ্যালুগুলোকে নিকটতম 'K' সংখ্যক ডেটা পয়েন্টের (neighbor) মানের গড় বা মোড দিয়ে পূরণ করা হয়। এই 'neighbor' গুলো অন্যান্য ভেরিয়েবলের উপর ভিত্তি করে নির্ধারিত হয়।\n",
    "Regression Imputation: একটি ভেরিয়েবলের মিসিং ভ্যালু পূরণ করার জন্য একটি রিগ্রেশন মডেল ব্যবহার করা হয়, যেখানে অন্যান্য ভেরিয়েবলগুলো ইন্ডিপেন্ডেন্ট ভেরিয়েবল (independent variables) হিসেবে কাজ করে।\n",
    "Iterative Imputation (MICE - Multiple Imputation by Chained Equations): এটি একটি উন্নত পদ্ধতি যেখানে একাধিক রাউন্ডে মিসিং ভ্যালু পূরণ করা হয়। প্রতিটি ভেরিয়েবলের মিসিং ভ্যালু পূরণ করার জন্য অন্যান্য ভেরিয়েবলগুলোকে predictor হিসেবে ব্যবহার করে একটি মডেল তৈরি করা হয়। এই প্রক্রিয়াটি যতক্ষণ না অভিসারী হয় (converges) ততক্ষণ পুনরাবৃত্তি হয়। এটি একাধিক সম্পূর্ণ ডেটাসেট তৈরি করে, যা ইমপিউটেশনের অনিশ্চয়তাকে (uncertainty) বিবেচনা করে।\n",
    "\n",
    "\n",
    "সুবিধাসমূহ (Advantages):\n",
    "\n",
    "উচ্চতর নির্ভুলতা: এটি ডেটার মধ্যকার সম্পর্ক ব্যবহার করে, তাই ইউনিভেরিয়েট পদ্ধতির চেয়ে আরও নির্ভুল এবং বাস্তবসম্মত মান অনুমান করতে পারে।\n",
    "ডেটার ভ্যারিয়েন্স বজায় রাখে: এটি ডেটার প্রকৃত ভ্যারিয়েন্স এবং কোভারিয়েন্স (covariance) সম্পর্ককে আরও ভালোভাবে ধরে রাখে।\n",
    "কম পক্ষপাতিত্ব (Bias): যেহেতু এটি ডেটার জটিল সম্পর্কগুলোকে বিবেচনা করে, তাই এটি মডেলের পূর্বাভাসে পক্ষপাতিত্ব কমিয়ে আনতে পারে।\n",
    "আরো শক্তিশালী মডেল: মাল্টিভেরিয়েট ইমপিউটেশনের মাধ্যমে প্রাপ্ত ডেটাসেট ব্যবহার করে তৈরি মডেলগুলো সাধারণত বেশি শক্তিশালী হয়।\n",
    "\n",
    "\n",
    "অসুবিধাসমূহ (Disadvantages):\n",
    "\n",
    "কম্পিউটেশনালি ব্যয়বহুল: ইউনিভেরিয়েট ইমপিউটেশনের চেয়ে এটি অনেক বেশি কম্পিউটেশনাল ক্ষমতা এবং সময় নেয়, বিশেষ করে বড় ডেটাসেটের জন্য।\n",
    "বাস্তবায়ন করা জটিল: এটি বাস্তবায়ন করা অপেক্ষাকৃত কঠিন এবং উন্নত পরিসংখ্যানগত জ্ঞানের প্রয়োজন হয়।\n",
    "ওভারফিটিংয়ের ঝুঁকি: যদি ডেটাসেটে খুব বেশি মিসিং ডেটা থাকে এবং ভেরিয়েবলগুলোর মধ্যে সম্পর্ক দুর্বল হয়, তাহলে এটি ওভারফিটিং (overfitting) এর ঝুঁকি বাড়িয়ে দিতে পারে।\n",
    "মডেলের নির্ভরতা: ইমপিউটেশন মডেলের গুণগত মানের উপর নির্ভরশীল, তাই ভুল মডেল নির্বাচন করলে খারাপ ফলাফল আসতে পারে।\n",
    "কখন কোনটি ব্যবহার করবেন:\n",
    "\n",
    "যদি আপনার ডেটাসেটে খুব কম মিসিং ডেটা থাকে এবং ভেরিয়েবলগুলোর মধ্যে পারস্পরিক সম্পর্ক খুব বেশি গুরুত্বপূর্ণ না হয়, তাহলে ইউনিভেরিয়েট ইমপিউটেশন একটি সহজ এবং দ্রুত সমাধান হতে পারে।\n",
    "যদি আপনার ডেটাসেটে উল্লেখযোগ্য পরিমাণ মিসিং ডেটা থাকে এবং ভেরিয়েবলগুলোর মধ্যে শক্তিশালী সম্পর্ক বিদ্যমান থাকে, তাহলে মাল্টিভেরিয়েট ইমপিউটেশন ব্যবহার করা উচিত। এটি আপনার মডেলের নির্ভুলতা এবং নির্ভরযোগ্যতা উন্নত করতে সাহায্য করবে।"
   ]
  },
  {
   "cell_type": "markdown",
   "id": "f303a546",
   "metadata": {},
   "source": [
    "Univariate Imputation korarar jonno same dataset use korbo."
   ]
  },
  {
   "cell_type": "code",
   "execution_count": 28,
   "id": "de20698f",
   "metadata": {},
   "outputs": [],
   "source": [
    "data=sns.load_dataset('titanic')"
   ]
  },
  {
   "cell_type": "code",
   "execution_count": 29,
   "id": "886cca68",
   "metadata": {},
   "outputs": [
    {
     "data": {
      "application/vnd.microsoft.datawrangler.viewer.v0+json": {
       "columns": [
        {
         "name": "index",
         "rawType": "int64",
         "type": "integer"
        },
        {
         "name": "survived",
         "rawType": "int64",
         "type": "integer"
        },
        {
         "name": "pclass",
         "rawType": "int64",
         "type": "integer"
        },
        {
         "name": "sex",
         "rawType": "object",
         "type": "string"
        },
        {
         "name": "age",
         "rawType": "float64",
         "type": "float"
        },
        {
         "name": "sibsp",
         "rawType": "int64",
         "type": "integer"
        },
        {
         "name": "parch",
         "rawType": "int64",
         "type": "integer"
        },
        {
         "name": "fare",
         "rawType": "float64",
         "type": "float"
        },
        {
         "name": "embarked",
         "rawType": "object",
         "type": "string"
        },
        {
         "name": "class",
         "rawType": "category",
         "type": "unknown"
        },
        {
         "name": "who",
         "rawType": "object",
         "type": "string"
        },
        {
         "name": "adult_male",
         "rawType": "bool",
         "type": "boolean"
        },
        {
         "name": "deck",
         "rawType": "category",
         "type": "unknown"
        },
        {
         "name": "embark_town",
         "rawType": "object",
         "type": "string"
        },
        {
         "name": "alive",
         "rawType": "object",
         "type": "string"
        },
        {
         "name": "alone",
         "rawType": "bool",
         "type": "boolean"
        }
       ],
       "conversionMethod": "pd.DataFrame",
       "ref": "d72d8c36-4455-466e-8345-438880512cde",
       "rows": [
        [
         "0",
         "0",
         "3",
         "male",
         "22.0",
         "1",
         "0",
         "7.25",
         "S",
         "Third",
         "man",
         "True",
         null,
         "Southampton",
         "no",
         "False"
        ],
        [
         "1",
         "1",
         "1",
         "female",
         "38.0",
         "1",
         "0",
         "71.2833",
         "C",
         "First",
         "woman",
         "False",
         "C",
         "Cherbourg",
         "yes",
         "False"
        ],
        [
         "2",
         "1",
         "3",
         "female",
         "26.0",
         "0",
         "0",
         "7.925",
         "S",
         "Third",
         "woman",
         "False",
         null,
         "Southampton",
         "yes",
         "True"
        ],
        [
         "3",
         "1",
         "1",
         "female",
         "35.0",
         "1",
         "0",
         "53.1",
         "S",
         "First",
         "woman",
         "False",
         "C",
         "Southampton",
         "yes",
         "False"
        ],
        [
         "4",
         "0",
         "3",
         "male",
         "35.0",
         "0",
         "0",
         "8.05",
         "S",
         "Third",
         "man",
         "True",
         null,
         "Southampton",
         "no",
         "True"
        ]
       ],
       "shape": {
        "columns": 15,
        "rows": 5
       }
      },
      "text/html": [
       "<div>\n",
       "<style scoped>\n",
       "    .dataframe tbody tr th:only-of-type {\n",
       "        vertical-align: middle;\n",
       "    }\n",
       "\n",
       "    .dataframe tbody tr th {\n",
       "        vertical-align: top;\n",
       "    }\n",
       "\n",
       "    .dataframe thead th {\n",
       "        text-align: right;\n",
       "    }\n",
       "</style>\n",
       "<table border=\"1\" class=\"dataframe\">\n",
       "  <thead>\n",
       "    <tr style=\"text-align: right;\">\n",
       "      <th></th>\n",
       "      <th>survived</th>\n",
       "      <th>pclass</th>\n",
       "      <th>sex</th>\n",
       "      <th>age</th>\n",
       "      <th>sibsp</th>\n",
       "      <th>parch</th>\n",
       "      <th>fare</th>\n",
       "      <th>embarked</th>\n",
       "      <th>class</th>\n",
       "      <th>who</th>\n",
       "      <th>adult_male</th>\n",
       "      <th>deck</th>\n",
       "      <th>embark_town</th>\n",
       "      <th>alive</th>\n",
       "      <th>alone</th>\n",
       "    </tr>\n",
       "  </thead>\n",
       "  <tbody>\n",
       "    <tr>\n",
       "      <th>0</th>\n",
       "      <td>0</td>\n",
       "      <td>3</td>\n",
       "      <td>male</td>\n",
       "      <td>22.0</td>\n",
       "      <td>1</td>\n",
       "      <td>0</td>\n",
       "      <td>7.2500</td>\n",
       "      <td>S</td>\n",
       "      <td>Third</td>\n",
       "      <td>man</td>\n",
       "      <td>True</td>\n",
       "      <td>NaN</td>\n",
       "      <td>Southampton</td>\n",
       "      <td>no</td>\n",
       "      <td>False</td>\n",
       "    </tr>\n",
       "    <tr>\n",
       "      <th>1</th>\n",
       "      <td>1</td>\n",
       "      <td>1</td>\n",
       "      <td>female</td>\n",
       "      <td>38.0</td>\n",
       "      <td>1</td>\n",
       "      <td>0</td>\n",
       "      <td>71.2833</td>\n",
       "      <td>C</td>\n",
       "      <td>First</td>\n",
       "      <td>woman</td>\n",
       "      <td>False</td>\n",
       "      <td>C</td>\n",
       "      <td>Cherbourg</td>\n",
       "      <td>yes</td>\n",
       "      <td>False</td>\n",
       "    </tr>\n",
       "    <tr>\n",
       "      <th>2</th>\n",
       "      <td>1</td>\n",
       "      <td>3</td>\n",
       "      <td>female</td>\n",
       "      <td>26.0</td>\n",
       "      <td>0</td>\n",
       "      <td>0</td>\n",
       "      <td>7.9250</td>\n",
       "      <td>S</td>\n",
       "      <td>Third</td>\n",
       "      <td>woman</td>\n",
       "      <td>False</td>\n",
       "      <td>NaN</td>\n",
       "      <td>Southampton</td>\n",
       "      <td>yes</td>\n",
       "      <td>True</td>\n",
       "    </tr>\n",
       "    <tr>\n",
       "      <th>3</th>\n",
       "      <td>1</td>\n",
       "      <td>1</td>\n",
       "      <td>female</td>\n",
       "      <td>35.0</td>\n",
       "      <td>1</td>\n",
       "      <td>0</td>\n",
       "      <td>53.1000</td>\n",
       "      <td>S</td>\n",
       "      <td>First</td>\n",
       "      <td>woman</td>\n",
       "      <td>False</td>\n",
       "      <td>C</td>\n",
       "      <td>Southampton</td>\n",
       "      <td>yes</td>\n",
       "      <td>False</td>\n",
       "    </tr>\n",
       "    <tr>\n",
       "      <th>4</th>\n",
       "      <td>0</td>\n",
       "      <td>3</td>\n",
       "      <td>male</td>\n",
       "      <td>35.0</td>\n",
       "      <td>0</td>\n",
       "      <td>0</td>\n",
       "      <td>8.0500</td>\n",
       "      <td>S</td>\n",
       "      <td>Third</td>\n",
       "      <td>man</td>\n",
       "      <td>True</td>\n",
       "      <td>NaN</td>\n",
       "      <td>Southampton</td>\n",
       "      <td>no</td>\n",
       "      <td>True</td>\n",
       "    </tr>\n",
       "  </tbody>\n",
       "</table>\n",
       "</div>"
      ],
      "text/plain": [
       "   survived  pclass     sex   age  sibsp  parch     fare embarked  class  \\\n",
       "0         0       3    male  22.0      1      0   7.2500        S  Third   \n",
       "1         1       1  female  38.0      1      0  71.2833        C  First   \n",
       "2         1       3  female  26.0      0      0   7.9250        S  Third   \n",
       "3         1       1  female  35.0      1      0  53.1000        S  First   \n",
       "4         0       3    male  35.0      0      0   8.0500        S  Third   \n",
       "\n",
       "     who  adult_male deck  embark_town alive  alone  \n",
       "0    man        True  NaN  Southampton    no  False  \n",
       "1  woman       False    C    Cherbourg   yes  False  \n",
       "2  woman       False  NaN  Southampton   yes   True  \n",
       "3  woman       False    C  Southampton   yes  False  \n",
       "4    man        True  NaN  Southampton    no   True  "
      ]
     },
     "execution_count": 29,
     "metadata": {},
     "output_type": "execute_result"
    }
   ],
   "source": [
    "data.head()"
   ]
  },
  {
   "cell_type": "code",
   "execution_count": 34,
   "id": "7b4590a3",
   "metadata": {},
   "outputs": [],
   "source": [
    "data.drop(columns='deck',inplace=True)"
   ]
  },
  {
   "cell_type": "code",
   "execution_count": 35,
   "id": "9bd7b5b0",
   "metadata": {},
   "outputs": [
    {
     "data": {
      "text/plain": [
       "age            19.87\n",
       "embarked        0.22\n",
       "embark_town     0.22\n",
       "survived        0.00\n",
       "pclass          0.00\n",
       "sex             0.00\n",
       "sibsp           0.00\n",
       "parch           0.00\n",
       "fare            0.00\n",
       "class           0.00\n",
       "who             0.00\n",
       "adult_male      0.00\n",
       "alive           0.00\n",
       "alone           0.00\n",
       "dtype: float64"
      ]
     },
     "execution_count": 35,
     "metadata": {},
     "output_type": "execute_result"
    }
   ],
   "source": [
    "round((data.isnull().sum().sort_values(ascending=False)/len(data))*100,2)"
   ]
  },
  {
   "cell_type": "code",
   "execution_count": null,
   "id": "c6e38a32",
   "metadata": {},
   "outputs": [],
   "source": [
    "from sklearn.impute import SimpleImputer\n",
    "imp=SimpleImputer(strategy='median')\n",
    "data['age']=imp.fit_transform(data['age'].values.reshape(-1, 1))\n",
    "imp=SimpleImputer(strategy='most_frequent')\n",
    "data[['embarked']]=imp.fit_transform(data[['embarked']])\n"
   ]
  },
  {
   "cell_type": "code",
   "execution_count": 40,
   "id": "6743c8b4",
   "metadata": {},
   "outputs": [
    {
     "data": {
      "text/plain": [
       "embarked       0.22\n",
       "embark_town    0.22\n",
       "survived       0.00\n",
       "pclass         0.00\n",
       "sex            0.00\n",
       "age            0.00\n",
       "sibsp          0.00\n",
       "parch          0.00\n",
       "fare           0.00\n",
       "class          0.00\n",
       "who            0.00\n",
       "adult_male     0.00\n",
       "alive          0.00\n",
       "alone          0.00\n",
       "dtype: float64"
      ]
     },
     "execution_count": 40,
     "metadata": {},
     "output_type": "execute_result"
    }
   ],
   "source": [
    "round((data.isnull().sum().sort_values(ascending=False)/len(data))*100,2)"
   ]
  },
  {
   "cell_type": "code",
   "execution_count": 47,
   "id": "c2e77264",
   "metadata": {},
   "outputs": [],
   "source": [
    "imp=SimpleImputer(strategy='most_frequent')\n",
    "data[['embarked']]=imp.fit_transform(data[['embarked']])"
   ]
  },
  {
   "cell_type": "code",
   "execution_count": 46,
   "id": "cbc6a588",
   "metadata": {},
   "outputs": [],
   "source": [
    "imp=SimpleImputer(strategy='most_frequent')\n",
    "data[['embark_town']]=imp.fit_transform(data[['embark_town']])\n"
   ]
  },
  {
   "cell_type": "code",
   "execution_count": 48,
   "id": "f05b209b",
   "metadata": {},
   "outputs": [
    {
     "data": {
      "text/plain": [
       "survived       0.0\n",
       "pclass         0.0\n",
       "sex            0.0\n",
       "age            0.0\n",
       "sibsp          0.0\n",
       "parch          0.0\n",
       "fare           0.0\n",
       "embarked       0.0\n",
       "class          0.0\n",
       "who            0.0\n",
       "adult_male     0.0\n",
       "embark_town    0.0\n",
       "alive          0.0\n",
       "alone          0.0\n",
       "dtype: float64"
      ]
     },
     "execution_count": 48,
     "metadata": {},
     "output_type": "execute_result"
    }
   ],
   "source": [
    "round((data.isnull().sum().sort_values(ascending=False)/len(data))*100,2)"
   ]
  },
  {
   "cell_type": "markdown",
   "id": "f7834df6",
   "metadata": {},
   "source": [
    "Akhon Ar kono missing value nei."
   ]
  },
  {
   "cell_type": "markdown",
   "id": "92e3b1b4",
   "metadata": {},
   "source": [
    "Ai bar amra ar che ye o aro karjokori akta method shikbo ar seta holo multivarient"
   ]
  },
  {
   "cell_type": "code",
   "execution_count": 52,
   "id": "e254b72c",
   "metadata": {},
   "outputs": [],
   "source": [
    "df1=sns.load_dataset('titanic')"
   ]
  },
  {
   "cell_type": "code",
   "execution_count": 53,
   "id": "72662e3e",
   "metadata": {},
   "outputs": [
    {
     "data": {
      "text/plain": [
       "deck           77.22\n",
       "age            19.87\n",
       "embarked        0.22\n",
       "embark_town     0.22\n",
       "survived        0.00\n",
       "pclass          0.00\n",
       "sex             0.00\n",
       "sibsp           0.00\n",
       "parch           0.00\n",
       "fare            0.00\n",
       "class           0.00\n",
       "who             0.00\n",
       "adult_male      0.00\n",
       "alive           0.00\n",
       "alone           0.00\n",
       "dtype: float64"
      ]
     },
     "execution_count": 53,
     "metadata": {},
     "output_type": "execute_result"
    }
   ],
   "source": [
    "round((df1.isnull().sum().sort_values(ascending=False)/len(df1))*100,2)"
   ]
  },
  {
   "cell_type": "code",
   "execution_count": 54,
   "id": "5f8022ce",
   "metadata": {},
   "outputs": [],
   "source": [
    "from sklearn.experimental import enable_iterative_imputer\n",
    "from sklearn.impute import IterativeImputer\n",
    "imp = IterativeImputer(max_iter=10, random_state=0)\n",
    "df['age'] = imp.fit_transform(df[['age']])  \n",
    "\n"
   ]
  },
  {
   "cell_type": "code",
   "execution_count": 62,
   "id": "d0445b5b",
   "metadata": {},
   "outputs": [],
   "source": [
    "# df['embark_town'] = imp.fit_transform(df[['embark_town']]) \n",
    "# df['embarked'] = imp.fit_transform(df[['embarked']])"
   ]
  },
  {
   "cell_type": "markdown",
   "id": "4047d570",
   "metadata": {},
   "source": [
    "IterativeImpute shudu numaric column er upor applicable hobe.Catagorical column like embark_town ar jonno amder simpleimpute use korte hobe. Ar jodi use kortei hoy tahole feature encoding korte hobe"
   ]
  },
  {
   "cell_type": "code",
   "execution_count": 60,
   "id": "0127bea6",
   "metadata": {},
   "outputs": [],
   "source": [
    "from sklearn.impute import SimpleImputer\n",
    "\n",
    "# Use IterativeImputer for numeric columns only\n",
    "numeric_cols = ['age', 'fare', 'sibsp', 'parch']\n",
    "df[numeric_cols] = imp.fit_transform(df[numeric_cols])\n",
    "\n",
    "# For categorical columns, use SimpleImputer\n",
    "cat_imp = SimpleImputer(strategy='most_frequent')\n",
    "df[['embarked', 'embark_town']] = cat_imp.fit_transform(df[['embarked', 'embark_town']])"
   ]
  },
  {
   "cell_type": "code",
   "execution_count": 61,
   "id": "3807d560",
   "metadata": {},
   "outputs": [
    {
     "name": "stdout",
     "output_type": "stream",
     "text": [
      "survived       0\n",
      "pclass         0\n",
      "sex            0\n",
      "age            0\n",
      "sibsp          0\n",
      "parch          0\n",
      "fare           0\n",
      "embarked       0\n",
      "class          0\n",
      "who            0\n",
      "adult_male     0\n",
      "embark_town    0\n",
      "alive          0\n",
      "alone          0\n",
      "dtype: int64\n"
     ]
    }
   ],
   "source": [
    "# Check for missing values again\n",
    "print(df.isnull().sum().sort_values(ascending=False))"
   ]
  }
 ],
 "metadata": {
  "kernelspec": {
   "display_name": "data_science_env",
   "language": "python",
   "name": "python3"
  },
  "language_info": {
   "codemirror_mode": {
    "name": "ipython",
    "version": 3
   },
   "file_extension": ".py",
   "mimetype": "text/x-python",
   "name": "python",
   "nbconvert_exporter": "python",
   "pygments_lexer": "ipython3",
   "version": "3.10.13"
  }
 },
 "nbformat": 4,
 "nbformat_minor": 5
}
