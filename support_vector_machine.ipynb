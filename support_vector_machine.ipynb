{
 "cells": [
  {
   "cell_type": "markdown",
   "id": "5c552ef8",
   "metadata": {},
   "source": [
    "### What is SVM?\n",
    "\n",
    "Support Vector Machine (SVM) is a powerful and flexible **supervised machine learning algorithm** used for both **classification** and **regression** tasks, though it's most commonly associated with classification. The core idea behind SVM is to find an **optimal hyperplane** that best separates different classes in a dataset.\n",
    "\n",
    "Here's a breakdown of key concepts:\n",
    "\n",
    "* **Hyperplane:** In a 2D space, this is a line. In a 3D space, it's a plane. In higher dimensions, it's a \"hyperplane\" – a decision boundary that separates data points belonging to different classes.\n",
    "* **Margin:** SVM aims to find the hyperplane that has the largest possible distance (the \"margin\") to the nearest data points of each class. A larger margin generally indicates better generalization performance on unseen data.\n",
    "* **Support Vectors:** These are the data points from each class that are closest to the hyperplane. They are crucial because they directly influence the position and orientation of the optimal hyperplane and the width of the margin. Only these support vectors are needed to define the decision boundary; other data points don't affect it.\n",
    "* **Kernel Trick:** When data is not linearly separable in its original dimension (i.e., you can't draw a straight line or flat plane to separate the classes), SVM uses a \"kernel function\" to implicitly map the data into a higher-dimensional space where it *can* be linearly separated. This avoids computationally expensive explicit transformations.\n",
    "\n",
    "### Types of SVM\n",
    "\n",
    "SVMs can be broadly categorized based on how they handle data separability:\n",
    "\n",
    "1.  **Linear SVM:**\n",
    "    * Used when the data points from different classes can be perfectly separated by a straight line (in 2D), a plane (in 3D), or a hyperplane (in higher dimensions).\n",
    "    * It aims to find the single best linear decision boundary that maximizes the margin.\n",
    "\n",
    "2.  **Non-Linear SVM:**\n",
    "    * Used when the data is not linearly separable in its original feature space.\n",
    "    * This is where the \"kernel trick\" comes into play. Kernel functions (like Radial Basis Function (RBF), Polynomial, or Sigmoid) transform the data into a higher-dimensional space, making it linearly separable there. The SVM then finds a linear hyperplane in this transformed space, which corresponds to a non-linear decision boundary in the original space.\n",
    "    * **Hard Margin SVM:** A strict version that requires perfect separation of classes with no misclassifications within the training data. It's sensitive to outliers and works best when data is perfectly separable.\n",
    "    * **Soft Margin SVM:** A more flexible version that allows for some misclassifications or violations of the margin to achieve better generalization and handle noisy or overlapping data. It introduces \"slack variables\" and a regularization parameter (C) to control the trade-off between maximizing the margin and minimizing classification errors.\n",
    "\n",
    "Beyond these primary types, there are also specialized SVM variants for specific tasks:\n",
    "\n",
    "* **One-Class SVM:** Used for anomaly or novelty detection, where the goal is to learn the boundary of a single class of \"normal\" observations and identify any new observations that fall outside this boundary as anomalies.\n",
    "* **Support Vector Regression (SVR):** An adaptation of SVM for regression problems, where the goal is to predict a continuous output variable instead of a categorical class. It finds a function that fits the data points while minimizing the prediction error, often by finding a hyperplane that best approximates the data within a certain tolerance.\n",
    "* **Nu-SVM:** A variant that uses a parameter 'nu' to control the number of support vectors and the margin width, offering another way to balance model complexity and generalization.\n",
    "* **Weighted SVM:** Assigns different weights to different classes, useful for handling imbalanced datasets where some classes have significantly fewer samples than others.\n",
    "\n",
    "### Applications of SVM in Machine Learning\n",
    "\n",
    "SVMs are widely applied across various domains due to their effectiveness, especially in high-dimensional spaces and with complex datasets. Some common applications include:\n",
    "\n",
    "1.  **Image Classification and Recognition:**\n",
    "    * **Face Detection:** Classifying parts of an image as a face or non-face.\n",
    "    * **Handwriting Recognition:** Recognizing handwritten characters and digits.\n",
    "    * **Object Recognition:** Identifying objects within images.\n",
    "    * **Medical Image Analysis:** Detecting tumors, classifying skin lesions, or diagnosing diseases from medical scans.\n",
    "\n",
    "2.  **Text Classification and Natural Language Processing (NLP):**\n",
    "    * **Spam Detection:** Classifying emails as spam or not spam.\n",
    "    * **Sentiment Analysis:** Determining the emotional tone (positive, negative, neutral) of text data like reviews or social media posts.\n",
    "    * **News Article Categorization:** Classifying articles into different topics (e.g., business, sports, politics).\n",
    "    * **Document Classification:** Automatically organizing documents into predefined categories.\n",
    "\n",
    "3.  **Bioinformatics and Computational Biology:**\n",
    "    * **Protein Classification:** Categorizing proteins based on their sequences or structures.\n",
    "    * **Gene Expression Analysis:** Classifying genes or patients based on gene expression patterns.\n",
    "    * **Disease Diagnosis:** Predicting diseases based on biological markers.\n",
    "\n",
    "4.  **Credit Scoring and Fraud Detection:**\n",
    "    * Identifying fraudulent transactions (e.g., credit card fraud) by detecting unusual patterns.\n",
    "    * Assessing creditworthiness of loan applicants.\n",
    "\n",
    "5.  **Biomedical Signal Processing:**\n",
    "    * Analyzing medical signals like ECG or EEG for diagnostic purposes.\n",
    "\n",
    "6.  **Time Series Prediction:** While more commonly used for classification, SVR can be applied to predict continuous values in time series data.\n",
    "\n",
    "7.  **Other Niche Applications:**\n",
    "    * **Geosounding Problem:** Analyzing electromagnetic data to determine the Earth's layered structure.\n",
    "    * **Surface Texture Classification:** Classifying surfaces based on their texture features.\n",
    "    * **Intrusion Detection Systems:** Identifying malicious activities in network traffic.\n",
    "\n",
    "SVM's ability to handle high-dimensional data, its robustness against overfitting (especially with soft margins), and the flexibility offered by kernel functions make it a valuable tool in many machine learning scenarios."
   ]
  },
  {
   "cell_type": "markdown",
   "id": "359c304f",
   "metadata": {},
   "source": [
    "![SVM visualization](SVM.jpg)"
   ]
  },
  {
   "cell_type": "code",
   "execution_count": 1,
   "id": "dfec81b7",
   "metadata": {},
   "outputs": [],
   "source": [
    "# importing library\n",
    "import pandas as pd \n",
    "import numpy as np\n",
    "import matplotlib.pyplot as plt\n",
    "import seaborn as sns\n"
   ]
  },
  {
   "cell_type": "code",
   "execution_count": 4,
   "id": "4fe04cd9",
   "metadata": {},
   "outputs": [],
   "source": [
    "# importing mL library\n",
    "from sklearn.svm import SVC\n",
    "from sklearn.model_selection import train_test_split\n",
    "from sklearn.metrics import accuracy_score, confusion_matrix, classification_report\n",
    "from sklearn.preprocessing import LabelEncoder"
   ]
  },
  {
   "cell_type": "code",
   "execution_count": 5,
   "id": "1363e681",
   "metadata": {},
   "outputs": [],
   "source": [
    "# import dataset\n",
    "df=sns.load_dataset('iris')"
   ]
  },
  {
   "cell_type": "code",
   "execution_count": 6,
   "id": "adae6666",
   "metadata": {},
   "outputs": [
    {
     "data": {
      "text/html": [
       "<div>\n",
       "<style scoped>\n",
       "    .dataframe tbody tr th:only-of-type {\n",
       "        vertical-align: middle;\n",
       "    }\n",
       "\n",
       "    .dataframe tbody tr th {\n",
       "        vertical-align: top;\n",
       "    }\n",
       "\n",
       "    .dataframe thead th {\n",
       "        text-align: right;\n",
       "    }\n",
       "</style>\n",
       "<table border=\"1\" class=\"dataframe\">\n",
       "  <thead>\n",
       "    <tr style=\"text-align: right;\">\n",
       "      <th></th>\n",
       "      <th>sepal_length</th>\n",
       "      <th>sepal_width</th>\n",
       "      <th>petal_length</th>\n",
       "      <th>petal_width</th>\n",
       "      <th>species</th>\n",
       "    </tr>\n",
       "  </thead>\n",
       "  <tbody>\n",
       "    <tr>\n",
       "      <th>0</th>\n",
       "      <td>5.1</td>\n",
       "      <td>3.5</td>\n",
       "      <td>1.4</td>\n",
       "      <td>0.2</td>\n",
       "      <td>setosa</td>\n",
       "    </tr>\n",
       "    <tr>\n",
       "      <th>1</th>\n",
       "      <td>4.9</td>\n",
       "      <td>3.0</td>\n",
       "      <td>1.4</td>\n",
       "      <td>0.2</td>\n",
       "      <td>setosa</td>\n",
       "    </tr>\n",
       "    <tr>\n",
       "      <th>2</th>\n",
       "      <td>4.7</td>\n",
       "      <td>3.2</td>\n",
       "      <td>1.3</td>\n",
       "      <td>0.2</td>\n",
       "      <td>setosa</td>\n",
       "    </tr>\n",
       "    <tr>\n",
       "      <th>3</th>\n",
       "      <td>4.6</td>\n",
       "      <td>3.1</td>\n",
       "      <td>1.5</td>\n",
       "      <td>0.2</td>\n",
       "      <td>setosa</td>\n",
       "    </tr>\n",
       "    <tr>\n",
       "      <th>4</th>\n",
       "      <td>5.0</td>\n",
       "      <td>3.6</td>\n",
       "      <td>1.4</td>\n",
       "      <td>0.2</td>\n",
       "      <td>setosa</td>\n",
       "    </tr>\n",
       "  </tbody>\n",
       "</table>\n",
       "</div>"
      ],
      "text/plain": [
       "   sepal_length  sepal_width  petal_length  petal_width species\n",
       "0           5.1          3.5           1.4          0.2  setosa\n",
       "1           4.9          3.0           1.4          0.2  setosa\n",
       "2           4.7          3.2           1.3          0.2  setosa\n",
       "3           4.6          3.1           1.5          0.2  setosa\n",
       "4           5.0          3.6           1.4          0.2  setosa"
      ]
     },
     "execution_count": 6,
     "metadata": {},
     "output_type": "execute_result"
    }
   ],
   "source": [
    "df.head()"
   ]
  },
  {
   "cell_type": "code",
   "execution_count": 7,
   "id": "5f4298e9",
   "metadata": {},
   "outputs": [],
   "source": [
    "# find X and y\n",
    "X = df.drop('species', axis=1)  \n",
    "y = df['species']"
   ]
  },
  {
   "cell_type": "code",
   "execution_count": 8,
   "id": "3b9ada27",
   "metadata": {},
   "outputs": [],
   "source": [
    "# splitting the dataset into training and testing sets\n",
    "X_train, X_test, y_train, y_test = train_test_split(X, y, test_size=0.2, random_state=42)\n",
    "# creating the SVM model\n",
    "model = SVC()\n",
    "# training the model\n",
    "model.fit(X_train, y_train)\n",
    "# making predictions\n",
    "y_pred = model.predict(X_test)\n"
   ]
  },
  {
   "cell_type": "code",
   "execution_count": 11,
   "id": "0ac04a13",
   "metadata": {},
   "outputs": [],
   "source": [
    "# evaluating the model\n",
    "accuracy = accuracy_score(y_test, y_pred)\n",
    "conf_matrix = confusion_matrix(y_test, y_pred)\n",
    "cless_report = classification_report(y_test, y_pred)"
   ]
  },
  {
   "cell_type": "code",
   "execution_count": 12,
   "id": "ee6099e4",
   "metadata": {},
   "outputs": [
    {
     "name": "stdout",
     "output_type": "stream",
     "text": [
      "Accuracy: 1.0\n",
      "----------------------------------------\n",
      "Confusion Matrix:\n",
      " [[10  0  0]\n",
      " [ 0  9  0]\n",
      " [ 0  0 11]]\n",
      "----------------------------------------\n",
      "Classification Matric:\n",
      "               precision    recall  f1-score   support\n",
      "\n",
      "      setosa       1.00      1.00      1.00        10\n",
      "  versicolor       1.00      1.00      1.00         9\n",
      "   virginica       1.00      1.00      1.00        11\n",
      "\n",
      "    accuracy                           1.00        30\n",
      "   macro avg       1.00      1.00      1.00        30\n",
      "weighted avg       1.00      1.00      1.00        30\n",
      "\n"
     ]
    }
   ],
   "source": [
    "print(\"Accuracy:\", accuracy)\n",
    "print(\"----------------------------------------\")\n",
    "print(\"Confusion Matrix:\\n\", conf_matrix)\n",
    "print(\"----------------------------------------\")\n",
    "print(\"Classification Matric:\\n\", cless_report)\n",
    " \n"
   ]
  },
  {
   "cell_type": "code",
   "execution_count": 15,
   "id": "61fbdbd0",
   "metadata": {},
   "outputs": [],
   "source": [
    "\n",
    "def predict_species(sepal_length, sepal_width, petal_length, petal_width):\n",
    "    input_data = np.array([[sepal_length, sepal_width, petal_length, petal_width]])\n",
    "    prediction = model.predict(input_data)\n",
    "    return prediction[0]\n"
   ]
  },
  {
   "cell_type": "code",
   "execution_count": 16,
   "id": "0c827d31",
   "metadata": {},
   "outputs": [
    {
     "name": "stdout",
     "output_type": "stream",
     "text": [
      "The predicted species is: virginica\n"
     ]
    },
    {
     "name": "stderr",
     "output_type": "stream",
     "text": [
      "c:\\Users\\SIZAN\\miniconda3\\envs\\data_science_env\\lib\\site-packages\\sklearn\\base.py:493: UserWarning: X does not have valid feature names, but SVC was fitted with feature names\n",
      "  warnings.warn(\n"
     ]
    }
   ],
   "source": [
    "# write a code that user can input a  value using imput function  and predict the species of iris\n",
    "sepal_length = float(input(\"Enter sepal length: \"))\n",
    "sepal_width = float(input(\"Enter sepal width: \"))\n",
    "petal_length = float(input(\"Enter petal length: \"))\n",
    "petal_width = float(input(\"Enter petal width: \"))\n",
    "predicted_species = predict_species(sepal_length, sepal_width, petal_length, petal_width)\n",
    "print(f\"The predicted species is: {predicted_species}\")"
   ]
  }
 ],
 "metadata": {
  "kernelspec": {
   "display_name": "data_science_env",
   "language": "python",
   "name": "python3"
  },
  "language_info": {
   "codemirror_mode": {
    "name": "ipython",
    "version": 3
   },
   "file_extension": ".py",
   "mimetype": "text/x-python",
   "name": "python",
   "nbconvert_exporter": "python",
   "pygments_lexer": "ipython3",
   "version": "3.10.13"
  }
 },
 "nbformat": 4,
 "nbformat_minor": 5
}
